{
 "cells": [
  {
   "cell_type": "markdown",
   "id": "c6dafc98",
   "metadata": {
    "toc": true
   },
   "source": [
    "<h1>Анализ оттока клиентов Банка<span class=\"tocSkip\"></span></h1>\n",
    "<div class=\"toc\"><ul class=\"toc-item\"><li><span><a href=\"#Описание-проекта,-данных,-выводы-и-рекомендации\" data-toc-modified-id=\"Описание-проекта,-данных,-выводы-и-рекомендации-1\"><span class=\"toc-item-num\">1&nbsp;&nbsp;</span>Описание проекта, данных, выводы и рекомендации</a></span></li><li><span><a href=\"#Загрузка-данных,-изучение-общей-информации\" data-toc-modified-id=\"Загрузка-данных,-изучение-общей-информации-2\"><span class=\"toc-item-num\">2&nbsp;&nbsp;</span>Загрузка данных, изучение общей информации</a></span></li><li><span><a href=\"#Предобработка-данных\" data-toc-modified-id=\"Предобработка-данных-3\"><span class=\"toc-item-num\">3&nbsp;&nbsp;</span>Предобработка данных</a></span></li><li><span><a href=\"#Исследовательский-анализ-данных\" data-toc-modified-id=\"Исследовательский-анализ-данных-4\"><span class=\"toc-item-num\">4&nbsp;&nbsp;</span>Исследовательский анализ данных</a></span><ul class=\"toc-item\"><li><span><a href=\"#Сверим-статистические-данные-по-ушедшим-и-оставшимся-клиентам\" data-toc-modified-id=\"Сверим-статистические-данные-по-ушедшим-и-оставшимся-клиентам-4.1\"><span class=\"toc-item-num\">4.1&nbsp;&nbsp;</span>Сверим статистические данные по ушедшим и оставшимся клиентам</a></span></li><li><span><a href=\"#Исследуем-отток-клиентов\" data-toc-modified-id=\"Исследуем-отток-клиентов-4.2\"><span class=\"toc-item-num\">4.2&nbsp;&nbsp;</span>Исследуем отток клиентов</a></span></li><li><span><a href=\"#Исследуем,-как-пол-и-возраст-влияют-на-уход-клиента--из-банка\" data-toc-modified-id=\"Исследуем,-как-пол-и-возраст-влияют-на-уход-клиента--из-банка-4.3\"><span class=\"toc-item-num\">4.3&nbsp;&nbsp;</span>Исследуем, как пол и возраст влияют на уход клиента  из банка</a></span></li><li><span><a href=\"#Исследуем,-как-город-обслуживания-влияет-на-отток-клиента\" data-toc-modified-id=\"Исследуем,-как-город-обслуживания-влияет-на-отток-клиента-4.4\"><span class=\"toc-item-num\">4.4&nbsp;&nbsp;</span>Исследуем, как город обслуживания влияет на отток клиента</a></span></li><li><span><a href=\"#Исследуем,-как-заработная-плата-влияет-на-уход-клиента\" data-toc-modified-id=\"Исследуем,-как-заработная-плата-влияет-на-уход-клиента-4.5\"><span class=\"toc-item-num\">4.5&nbsp;&nbsp;</span>Исследуем, как заработная плата влияет на уход клиента</a></span></li><li><span><a href=\"#Матрица-корреляций\" data-toc-modified-id=\"Матрица-корреляций-4.6\"><span class=\"toc-item-num\">4.6&nbsp;&nbsp;</span>Матрица корреляций</a></span></li><li><span><a href=\"#Переведем-категориальные-данные-в-числовые.\" data-toc-modified-id=\"Переведем-категориальные-данные-в-числовые.-4.7\"><span class=\"toc-item-num\">4.7&nbsp;&nbsp;</span>Переведем категориальные данные в числовые.</a></span></li><li><span><a href=\"#Проведем-кластеризацию-клиентов.\" data-toc-modified-id=\"Проведем-кластеризацию-клиентов.-4.8\"><span class=\"toc-item-num\">4.8&nbsp;&nbsp;</span>Проведем кластеризацию клиентов.</a></span></li><li><span><a href=\"#Определение-сегментов-с-отточными-клиентами\" data-toc-modified-id=\"Определение-сегментов-с-отточными-клиентами-4.9\"><span class=\"toc-item-num\">4.9&nbsp;&nbsp;</span>Определение сегментов с отточными клиентами</a></span></li></ul></li></ul></div>"
   ]
  },
  {
   "cell_type": "markdown",
   "id": "2c3aac37",
   "metadata": {},
   "source": [
    "## Описание проекта, данных, выводы и рекомендации"
   ]
  },
  {
   "cell_type": "markdown",
   "id": "562abc38",
   "metadata": {},
   "source": [
    "**Задача проекта:** На основе предоставленных данных выделить сегменты отточных клиентов, которые бы покрывали максимум проблемных зон Банка"
   ]
  },
  {
   "cell_type": "markdown",
   "id": "5bb64a70",
   "metadata": {},
   "source": [
    "Датасет содержит следующие данные о клиентах банка:\n",
    "\n",
    "- `userid` — идентификатор пользователя,\n",
    "- `score` — баллы кредитного скоринга,\n",
    "- `city` — город,\n",
    "- `gender` — пол,\n",
    "- `age` — возраст,\n",
    "- `equity` — приблизительная оценка собственности клиента,\n",
    "- `balance` — баланс на счёте,\n",
    "- `products` — количество продуктов, которыми пользуется клиент,\n",
    "- `credit_card` — есть ли кредитная карта,\n",
    "- `last_activity` — был ли клиент активен последнее время,\n",
    "- `est_salary` — заработная плата клиента,\n",
    "- `churn` — уходит или нет."
   ]
  },
  {
   "cell_type": "markdown",
   "id": "173809c6",
   "metadata": {},
   "source": [
    "**Вывод:**\n",
    "Выделены 3 основных сегмента:\n",
    "\n",
    "\n",
    "| Номер сегмента | Параметры, входящие в сегмент | Величина оттока из Банка | Процент оттока в сегменте |\n",
    "| :-------------------- | :--------------------- |:---------------------------:|:---------------------------:|\n",
    "| **Cегмент 1:** |- количество продуктов более 2х; | 647 клиентов (35,51%) | 41% |\n",
    "|  | - шкала собственности более 3; |  |  |\n",
    "|  | - без крединой карты; |  |  |\n",
    "|  | - кредитный рейтинг более 820. |  | |\n",
    "|  |  |  |  |\n",
    "| **Cегмент 2:** | - количество продуктов более 2х;  | 654 клиентов (35,89%) | 47% |\n",
    "|  | - шкала собственности более 3;  |  |  |\n",
    "|  | - активный счет;  |  |  |\n",
    "|  | - мужского пола всех возрастов и женского пола в возрасте 51-59 лет. |  |  |\n",
    "|  |  |  |  |\n",
    "| **Cегмент 3:** | - количество продуктов более 2х;  | 860 клиентов (47,2%)  | 49% |\n",
    "|  | - шкала собственности более 3; |  |  |\n",
    "|  | - активный счет; |  |  |\n",
    "|  | - кредитный рейтинг более 820. |  | |\n",
    "\n"
   ]
  },
  {
   "cell_type": "markdown",
   "id": "a82e32b5",
   "metadata": {},
   "source": [
    "**Рекомендации:**\n",
    "\n",
    "- в первом сегменте высокий отток показали клиенты с отличным кредитным рейтингом и без кредитной карты, с количеством продуктов банка более 2х (значит лояльны к Банку) и с наличием собственности (по шкале более 3х). С кредитной картой отток ниже, поэтому, в качестве рекомендаций, есть преложение в увеличении количества продаж кредитных карт. Можно менеджерам по продажам направить данные клиентов их ДО с высоким кредитным рейтингом для обзвона и привлечения.\n",
    "\n",
    "- во втором сегменте высокий отток показали клиенты с активным счетом (т.е. клиент пользуется им), мужского пола, либо женского пола с возрасте 51-59 лет, также с продуктами банка более 2х (значит лояльны к Банку) и с наличием собственности (по шкале более 3х). В качестве рекомендаций, есть предложение продумать предложения, которые будут интересны для мужчин.\n",
    "\n",
    "- в третий сегмент попали клиенты, которые активно пользуются счетом и имеют высокий кредитный рейтинг, а также имеющие более 2х продуктов банка и с наличием собственности. Этим клиентам рекомендовано предложить \"длительное\" кредитование: ипотека, кредиты на строительство дома, ремонт, покупку авто, а также страхование."
   ]
  },
  {
   "cell_type": "markdown",
   "id": "9ee26e4d",
   "metadata": {},
   "source": [
    "## Загрузка данных, изучение общей информации"
   ]
  },
  {
   "cell_type": "code",
   "execution_count": 1,
   "id": "d3d2a8b4",
   "metadata": {},
   "outputs": [],
   "source": [
    "# загружаем необходимые библиотеки\n",
    "import pandas as pd\n",
    "import matplotlib.pyplot as plt\n",
    "import seaborn as sns\n",
    "import numpy as np\n",
    "import random\n",
    "import itertools\n",
    "import phik\n",
    "from phik.report import plot_correlation_matrix\n",
    "from phik import report\n",
    "from sklearn.compose import make_column_transformer\n",
    "from sklearn.preprocessing import OneHotEncoder\n",
    "from sklearn.cluster import KMeans\n",
    "from sklearn.preprocessing import StandardScaler\n",
    "import sklearn.cluster as sk\n",
    "from scipy.spatial import distance as sci_distance"
   ]
  },
  {
   "cell_type": "code",
   "execution_count": 2,
   "id": "9435cd63",
   "metadata": {},
   "outputs": [],
   "source": [
    "import warnings\n",
    "\n",
    "warnings.filterwarnings(\"ignore\")"
   ]
  },
  {
   "cell_type": "code",
   "execution_count": 3,
   "id": "0193ae48",
   "metadata": {},
   "outputs": [],
   "source": [
    "# сохраняем датасет в переменную `bank`\n",
    "bank = pd.read_csv('C:/users/bank_scrooge.csv')"
   ]
  },
  {
   "cell_type": "code",
   "execution_count": 4,
   "id": "73d233cc",
   "metadata": {
    "scrolled": false
   },
   "outputs": [
    {
     "name": "stdout",
     "output_type": "stream",
     "text": [
      "<class 'pandas.core.frame.DataFrame'>\n",
      "RangeIndex: 10000 entries, 0 to 9999\n",
      "Data columns (total 12 columns):\n",
      " #   Column         Non-Null Count  Dtype  \n",
      "---  ------         --------------  -----  \n",
      " 0   USERID         10000 non-null  int64  \n",
      " 1   score          10000 non-null  float64\n",
      " 2   city           10000 non-null  object \n",
      " 3   gender         10000 non-null  object \n",
      " 4   age            10000 non-null  int64  \n",
      " 5   equity         10000 non-null  int64  \n",
      " 6   balance        7705 non-null   float64\n",
      " 7   products       10000 non-null  int64  \n",
      " 8   credit_card    10000 non-null  int64  \n",
      " 9   last_activity  10000 non-null  int64  \n",
      " 10  EST_SALARY     10000 non-null  float64\n",
      " 11  churn          10000 non-null  int64  \n",
      "dtypes: float64(3), int64(7), object(2)\n",
      "memory usage: 859.4+ KB\n"
     ]
    }
   ],
   "source": [
    "# посмотрим на информацию\n",
    "bank.info()"
   ]
  },
  {
   "cell_type": "markdown",
   "id": "b1ea66e5",
   "metadata": {},
   "source": [
    "## Предобработка данных"
   ]
  },
  {
   "cell_type": "code",
   "execution_count": 5,
   "id": "91ea118a",
   "metadata": {},
   "outputs": [],
   "source": [
    "# приводим названия столбцов к нижнему регистру\n",
    "bank.columns = bank.columns.str.lower()"
   ]
  },
  {
   "cell_type": "code",
   "execution_count": 6,
   "id": "652be9fb",
   "metadata": {},
   "outputs": [],
   "source": [
    "# переименуем название столбца `userid`\n",
    "bank = bank.rename(columns = {'userid':'user_id'})"
   ]
  },
  {
   "cell_type": "code",
   "execution_count": 7,
   "id": "4cffdbb9",
   "metadata": {},
   "outputs": [],
   "source": [
    "# изменим тип данных в столбце `score` на `int`\n",
    "bank['score'] = bank['score'].astype(int)"
   ]
  },
  {
   "cell_type": "code",
   "execution_count": 8,
   "id": "cbeca19d",
   "metadata": {},
   "outputs": [
    {
     "data": {
      "text/plain": [
       "user_id           0.00\n",
       "score             0.00\n",
       "city              0.00\n",
       "gender            0.00\n",
       "age               0.00\n",
       "equity            0.00\n",
       "balance          22.95\n",
       "products          0.00\n",
       "credit_card       0.00\n",
       "last_activity     0.00\n",
       "est_salary        0.00\n",
       "churn             0.00\n",
       "dtype: float64"
      ]
     },
     "execution_count": 8,
     "metadata": {},
     "output_type": "execute_result"
    }
   ],
   "source": [
    "# посмотрим процент пропусков\n",
    "(bank.isna().sum()/len(bank))*100"
   ]
  },
  {
   "cell_type": "markdown",
   "id": "f9cb8ec7",
   "metadata": {},
   "source": [
    "Процент пропусков в столбце `balance` высокий, составляет более 10%. Удалять строки с пропусками не целесообразно. "
   ]
  },
  {
   "cell_type": "code",
   "execution_count": 9,
   "id": "1d58beab",
   "metadata": {},
   "outputs": [],
   "source": [
    "# создадим датасет из пропусков\n",
    "bank_nan = bank.loc[bank['balance'].isna() == True]"
   ]
  },
  {
   "cell_type": "markdown",
   "id": "0bdb7c06",
   "metadata": {},
   "source": [
    "Причиной возникновения пропусков могут быть:\n",
    "- клиент уже не является клиентом банка;\n",
    "- у клиента нет дохода;\n",
    "- у клиента кредит и он в задолженности (на счете минус);\n",
    "- клиент не активен, счет имеется, но он им не пользуется."
   ]
  },
  {
   "cell_type": "code",
   "execution_count": 10,
   "id": "cbd0db9a",
   "metadata": {},
   "outputs": [
    {
     "data": {
      "image/png": "[encoded data removed]",
      "text/plain": [
       "<Figure size 1080x720 with 4 Axes>"
      ]
     },
     "metadata": {
      "needs_background": "light"
     },
     "output_type": "display_data"
    }
   ],
   "source": [
    "# построим быстрые гистограммы по четырем параметрам для проверки предположений\n",
    "bank_nan[['churn', 'est_salary', 'credit_card', 'last_activity']].hist(figsize=(15, 10))\n",
    "plt.show()"
   ]
  },
  {
   "cell_type": "markdown",
   "id": "4707bad2",
   "metadata": {},
   "source": [
    "Гистограммы показывают, что:\n",
    "- первая гистограмма показывает, что клиенты с Nan в большинстве своем действующие;\n",
    "- все счета с доходами;\n",
    "- есть клиенты без кредитных карт (эти счета не уйдут в минус);\n",
    "- больше половины клиентов - активны.\n",
    "\n",
    "Наши четыре предположения не подтвердились. Возможно, при выгрузке так отображается нулевой баланс"
   ]
  },
  {
   "cell_type": "code",
   "execution_count": 11,
   "id": "e5c750e4",
   "metadata": {},
   "outputs": [
    {
     "data": {
      "text/html": [
       "<div>\n",
       "<style scoped>\n",
       "    .dataframe tbody tr th:only-of-type {\n",
       "        vertical-align: middle;\n",
       "    }\n",
       "\n",
       "    .dataframe tbody tr th {\n",
       "        vertical-align: top;\n",
       "    }\n",
       "\n",
       "    .dataframe thead th {\n",
       "        text-align: right;\n",
       "    }\n",
       "</style>\n",
       "<table border=\"1\" class=\"dataframe\">\n",
       "  <thead>\n",
       "    <tr style=\"text-align: right;\">\n",
       "      <th></th>\n",
       "      <th>user_id</th>\n",
       "      <th>score</th>\n",
       "      <th>city</th>\n",
       "      <th>gender</th>\n",
       "      <th>age</th>\n",
       "      <th>equity</th>\n",
       "      <th>balance</th>\n",
       "      <th>products</th>\n",
       "      <th>credit_card</th>\n",
       "      <th>last_activity</th>\n",
       "      <th>est_salary</th>\n",
       "      <th>churn</th>\n",
       "    </tr>\n",
       "  </thead>\n",
       "  <tbody>\n",
       "    <tr>\n",
       "      <th>3900</th>\n",
       "      <td>179831</td>\n",
       "      <td>730</td>\n",
       "      <td>Ярославль</td>\n",
       "      <td>М</td>\n",
       "      <td>18</td>\n",
       "      <td>0</td>\n",
       "      <td>0.0</td>\n",
       "      <td>2</td>\n",
       "      <td>1</td>\n",
       "      <td>1</td>\n",
       "      <td>64548.33</td>\n",
       "      <td>0</td>\n",
       "    </tr>\n",
       "    <tr>\n",
       "      <th>6757</th>\n",
       "      <td>148456</td>\n",
       "      <td>813</td>\n",
       "      <td>Ярославль</td>\n",
       "      <td>М</td>\n",
       "      <td>20</td>\n",
       "      <td>2</td>\n",
       "      <td>0.0</td>\n",
       "      <td>2</td>\n",
       "      <td>1</td>\n",
       "      <td>0</td>\n",
       "      <td>23876.51</td>\n",
       "      <td>0</td>\n",
       "    </tr>\n",
       "  </tbody>\n",
       "</table>\n",
       "</div>"
      ],
      "text/plain": [
       "      user_id  score       city gender  age  equity  balance  products  \\\n",
       "3900   179831    730  Ярославль      М   18       0      0.0         2   \n",
       "6757   148456    813  Ярославль      М   20       2      0.0         2   \n",
       "\n",
       "      credit_card  last_activity  est_salary  churn  \n",
       "3900            1              1    64548.33      0  \n",
       "6757            1              0    23876.51      0  "
      ]
     },
     "execution_count": 11,
     "metadata": {},
     "output_type": "execute_result"
    }
   ],
   "source": [
    "# посмотрим на строки с нулевым балансом\n",
    "bank.query('balance == 0')"
   ]
  },
  {
   "cell_type": "markdown",
   "id": "921c8d11",
   "metadata": {},
   "source": [
    "Данные с нулевым балансом оторажаются корректно. Достоверно определить причину отсутствующих значений не представляется возможным. Оставим данные пока в таком виде. Проверим, есть ли отрицательный баланс в столбцах `balance` и `est_salary`"
   ]
  },
  {
   "cell_type": "code",
   "execution_count": 12,
   "id": "df5516a2",
   "metadata": {},
   "outputs": [
    {
     "data": {
      "text/plain": [
       "(0, 12)"
      ]
     },
     "execution_count": 12,
     "metadata": {},
     "output_type": "execute_result"
    }
   ],
   "source": [
    "bank.loc[bank['balance'] < 0].shape"
   ]
  },
  {
   "cell_type": "code",
   "execution_count": 13,
   "id": "2330f885",
   "metadata": {},
   "outputs": [
    {
     "data": {
      "text/plain": [
       "(0, 12)"
      ]
     },
     "execution_count": 13,
     "metadata": {},
     "output_type": "execute_result"
    }
   ],
   "source": [
    "bank.loc[bank['est_salary'] < 0].shape"
   ]
  },
  {
   "cell_type": "code",
   "execution_count": 14,
   "id": "686c8432",
   "metadata": {},
   "outputs": [
    {
     "data": {
      "text/plain": [
       "1"
      ]
     },
     "execution_count": 14,
     "metadata": {},
     "output_type": "execute_result"
    }
   ],
   "source": [
    "# проверим на полные дубликаты\n",
    "bank.duplicated().sum()"
   ]
  },
  {
   "cell_type": "markdown",
   "id": "9b1e8caf",
   "metadata": {},
   "source": [
    "Удалим дубликат"
   ]
  },
  {
   "cell_type": "code",
   "execution_count": 15,
   "id": "1bae5d44",
   "metadata": {},
   "outputs": [],
   "source": [
    "bank = bank.drop_duplicates().reset_index(drop=True)"
   ]
  },
  {
   "cell_type": "markdown",
   "id": "f60c5572",
   "metadata": {},
   "source": [
    "Проверим на дубликаты по нескольким параметрам, которые могут характеризовать клиента."
   ]
  },
  {
   "cell_type": "code",
   "execution_count": 16,
   "id": "07f4ad37",
   "metadata": {},
   "outputs": [
    {
     "data": {
      "text/plain": [
       "16"
      ]
     },
     "execution_count": 16,
     "metadata": {},
     "output_type": "execute_result"
    }
   ],
   "source": [
    "bank[['user_id', 'city', 'age', 'gender', 'equity']].duplicated().sum()"
   ]
  },
  {
   "cell_type": "markdown",
   "id": "d8298720",
   "metadata": {},
   "source": [
    "Удалим их."
   ]
  },
  {
   "cell_type": "code",
   "execution_count": 17,
   "id": "ffc6fb4b",
   "metadata": {},
   "outputs": [],
   "source": [
    "bank = bank.drop_duplicates(subset=['user_id', 'city', 'age', 'equity'], keep = 'first').reset_index(drop=True)"
   ]
  },
  {
   "cell_type": "code",
   "execution_count": 18,
   "id": "ce798545",
   "metadata": {},
   "outputs": [],
   "source": [
    "# добавим столбец с текстовым выражением клиент ушел/остался\n",
    "bank['churn_text'] = bank['churn'].copy()\n",
    "bank.loc[(bank['churn_text'] == 0), 'churn_text'] = 'остался'\n",
    "bank.loc[(bank['churn_text'] == 1), 'churn_text'] = 'ушел'"
   ]
  },
  {
   "cell_type": "markdown",
   "id": "e568a4d1",
   "metadata": {},
   "source": [
    "**Вывод:** данные подготовлены. Колонки отредактированы, данные проверены на пропуски, дубликаты. Изменены типы данных, проверены на аномальные (отрицательные) значения, проверены уникальные значения. Можно приступать к анализу."
   ]
  },
  {
   "cell_type": "markdown",
   "id": "ace0403b",
   "metadata": {},
   "source": [
    "## Исследовательский анализ данных"
   ]
  },
  {
   "cell_type": "markdown",
   "id": "61eb05fe",
   "metadata": {},
   "source": [
    "### Сверим статистические данные по ушедшим и оставшимся клиентам"
   ]
  },
  {
   "cell_type": "code",
   "execution_count": 19,
   "id": "3bf02c68",
   "metadata": {},
   "outputs": [
    {
     "data": {
      "text/html": [
       "<div>\n",
       "<style scoped>\n",
       "    .dataframe tbody tr th:only-of-type {\n",
       "        vertical-align: middle;\n",
       "    }\n",
       "\n",
       "    .dataframe tbody tr th {\n",
       "        vertical-align: top;\n",
       "    }\n",
       "\n",
       "    .dataframe thead th {\n",
       "        text-align: right;\n",
       "    }\n",
       "</style>\n",
       "<table border=\"1\" class=\"dataframe\">\n",
       "  <thead>\n",
       "    <tr style=\"text-align: right;\">\n",
       "      <th></th>\n",
       "      <th>user_id</th>\n",
       "      <th>score</th>\n",
       "      <th>age</th>\n",
       "      <th>equity</th>\n",
       "      <th>balance</th>\n",
       "      <th>products</th>\n",
       "      <th>credit_card</th>\n",
       "      <th>last_activity</th>\n",
       "      <th>est_salary</th>\n",
       "      <th>churn</th>\n",
       "    </tr>\n",
       "  </thead>\n",
       "  <tbody>\n",
       "    <tr>\n",
       "      <th>count</th>\n",
       "      <td>8161.000000</td>\n",
       "      <td>8161.000000</td>\n",
       "      <td>8161.000000</td>\n",
       "      <td>8161.000000</td>\n",
       "      <td>5.893000e+03</td>\n",
       "      <td>8161.000000</td>\n",
       "      <td>8161.000000</td>\n",
       "      <td>8161.000000</td>\n",
       "      <td>8.161000e+03</td>\n",
       "      <td>8161.0</td>\n",
       "    </tr>\n",
       "    <tr>\n",
       "      <th>mean</th>\n",
       "      <td>171939.174121</td>\n",
       "      <td>845.377282</td>\n",
       "      <td>43.168362</td>\n",
       "      <td>2.378140</td>\n",
       "      <td>7.341706e+05</td>\n",
       "      <td>1.763264</td>\n",
       "      <td>0.708982</td>\n",
       "      <td>0.483397</td>\n",
       "      <td>1.476702e+05</td>\n",
       "      <td>0.0</td>\n",
       "    </tr>\n",
       "    <tr>\n",
       "      <th>std</th>\n",
       "      <td>33328.547985</td>\n",
       "      <td>68.009388</td>\n",
       "      <td>12.352436</td>\n",
       "      <td>1.970837</td>\n",
       "      <td>1.955385e+06</td>\n",
       "      <td>0.723098</td>\n",
       "      <td>0.454260</td>\n",
       "      <td>0.499755</td>\n",
       "      <td>1.426684e+05</td>\n",
       "      <td>0.0</td>\n",
       "    </tr>\n",
       "    <tr>\n",
       "      <th>min</th>\n",
       "      <td>95384.000000</td>\n",
       "      <td>642.000000</td>\n",
       "      <td>18.000000</td>\n",
       "      <td>0.000000</td>\n",
       "      <td>0.000000e+00</td>\n",
       "      <td>1.000000</td>\n",
       "      <td>0.000000</td>\n",
       "      <td>0.000000</td>\n",
       "      <td>2.546300e+03</td>\n",
       "      <td>0.0</td>\n",
       "    </tr>\n",
       "    <tr>\n",
       "      <th>25%</th>\n",
       "      <td>143103.000000</td>\n",
       "      <td>796.000000</td>\n",
       "      <td>34.000000</td>\n",
       "      <td>0.000000</td>\n",
       "      <td>2.790748e+05</td>\n",
       "      <td>1.000000</td>\n",
       "      <td>0.000000</td>\n",
       "      <td>0.000000</td>\n",
       "      <td>7.348966e+04</td>\n",
       "      <td>0.0</td>\n",
       "    </tr>\n",
       "    <tr>\n",
       "      <th>50%</th>\n",
       "      <td>173163.000000</td>\n",
       "      <td>848.000000</td>\n",
       "      <td>40.000000</td>\n",
       "      <td>3.000000</td>\n",
       "      <td>4.754101e+05</td>\n",
       "      <td>2.000000</td>\n",
       "      <td>1.000000</td>\n",
       "      <td>0.000000</td>\n",
       "      <td>1.182217e+05</td>\n",
       "      <td>0.0</td>\n",
       "    </tr>\n",
       "    <tr>\n",
       "      <th>75%</th>\n",
       "      <td>201164.000000</td>\n",
       "      <td>900.000000</td>\n",
       "      <td>51.000000</td>\n",
       "      <td>4.000000</td>\n",
       "      <td>8.539915e+05</td>\n",
       "      <td>2.000000</td>\n",
       "      <td>1.000000</td>\n",
       "      <td>1.000000</td>\n",
       "      <td>1.739428e+05</td>\n",
       "      <td>0.0</td>\n",
       "    </tr>\n",
       "    <tr>\n",
       "      <th>max</th>\n",
       "      <td>229145.000000</td>\n",
       "      <td>1000.000000</td>\n",
       "      <td>86.000000</td>\n",
       "      <td>9.000000</td>\n",
       "      <td>1.191136e+08</td>\n",
       "      <td>5.000000</td>\n",
       "      <td>1.000000</td>\n",
       "      <td>1.000000</td>\n",
       "      <td>1.395064e+06</td>\n",
       "      <td>0.0</td>\n",
       "    </tr>\n",
       "  </tbody>\n",
       "</table>\n",
       "</div>"
      ],
      "text/plain": [
       "             user_id        score          age       equity       balance  \\\n",
       "count    8161.000000  8161.000000  8161.000000  8161.000000  5.893000e+03   \n",
       "mean   171939.174121   845.377282    43.168362     2.378140  7.341706e+05   \n",
       "std     33328.547985    68.009388    12.352436     1.970837  1.955385e+06   \n",
       "min     95384.000000   642.000000    18.000000     0.000000  0.000000e+00   \n",
       "25%    143103.000000   796.000000    34.000000     0.000000  2.790748e+05   \n",
       "50%    173163.000000   848.000000    40.000000     3.000000  4.754101e+05   \n",
       "75%    201164.000000   900.000000    51.000000     4.000000  8.539915e+05   \n",
       "max    229145.000000  1000.000000    86.000000     9.000000  1.191136e+08   \n",
       "\n",
       "          products  credit_card  last_activity    est_salary   churn  \n",
       "count  8161.000000  8161.000000    8161.000000  8.161000e+03  8161.0  \n",
       "mean      1.763264     0.708982       0.483397  1.476702e+05     0.0  \n",
       "std       0.723098     0.454260       0.499755  1.426684e+05     0.0  \n",
       "min       1.000000     0.000000       0.000000  2.546300e+03     0.0  \n",
       "25%       1.000000     0.000000       0.000000  7.348966e+04     0.0  \n",
       "50%       2.000000     1.000000       0.000000  1.182217e+05     0.0  \n",
       "75%       2.000000     1.000000       1.000000  1.739428e+05     0.0  \n",
       "max       5.000000     1.000000       1.000000  1.395064e+06     0.0  "
      ]
     },
     "execution_count": 19,
     "metadata": {},
     "output_type": "execute_result"
    }
   ],
   "source": [
    "# посмотрим стат.данные для клиентов, которые остались\n",
    "bank.query('churn == 0').describe()"
   ]
  },
  {
   "cell_type": "code",
   "execution_count": 20,
   "id": "5c72c0d9",
   "metadata": {},
   "outputs": [
    {
     "data": {
      "text/html": [
       "<div>\n",
       "<style scoped>\n",
       "    .dataframe tbody tr th:only-of-type {\n",
       "        vertical-align: middle;\n",
       "    }\n",
       "\n",
       "    .dataframe tbody tr th {\n",
       "        vertical-align: top;\n",
       "    }\n",
       "\n",
       "    .dataframe thead th {\n",
       "        text-align: right;\n",
       "    }\n",
       "</style>\n",
       "<table border=\"1\" class=\"dataframe\">\n",
       "  <thead>\n",
       "    <tr style=\"text-align: right;\">\n",
       "      <th></th>\n",
       "      <th>user_id</th>\n",
       "      <th>score</th>\n",
       "      <th>age</th>\n",
       "      <th>equity</th>\n",
       "      <th>balance</th>\n",
       "      <th>products</th>\n",
       "      <th>credit_card</th>\n",
       "      <th>last_activity</th>\n",
       "      <th>est_salary</th>\n",
       "      <th>churn</th>\n",
       "    </tr>\n",
       "  </thead>\n",
       "  <tbody>\n",
       "    <tr>\n",
       "      <th>count</th>\n",
       "      <td>1822.000000</td>\n",
       "      <td>1822.000000</td>\n",
       "      <td>1822.000000</td>\n",
       "      <td>1822.000000</td>\n",
       "      <td>1.809000e+03</td>\n",
       "      <td>1822.000000</td>\n",
       "      <td>1822.000000</td>\n",
       "      <td>1822.000000</td>\n",
       "      <td>1.822000e+03</td>\n",
       "      <td>1822.0</td>\n",
       "    </tr>\n",
       "    <tr>\n",
       "      <th>mean</th>\n",
       "      <td>170929.383644</td>\n",
       "      <td>863.414380</td>\n",
       "      <td>41.403403</td>\n",
       "      <td>3.763447</td>\n",
       "      <td>1.133287e+06</td>\n",
       "      <td>2.377607</td>\n",
       "      <td>0.550494</td>\n",
       "      <td>0.702525</td>\n",
       "      <td>1.482000e+05</td>\n",
       "      <td>1.0</td>\n",
       "    </tr>\n",
       "    <tr>\n",
       "      <th>std</th>\n",
       "      <td>35284.250148</td>\n",
       "      <td>49.606824</td>\n",
       "      <td>10.976999</td>\n",
       "      <td>1.585049</td>\n",
       "      <td>2.032967e+06</td>\n",
       "      <td>0.925034</td>\n",
       "      <td>0.497580</td>\n",
       "      <td>0.457273</td>\n",
       "      <td>1.228648e+05</td>\n",
       "      <td>0.0</td>\n",
       "    </tr>\n",
       "    <tr>\n",
       "      <th>min</th>\n",
       "      <td>94561.000000</td>\n",
       "      <td>706.000000</td>\n",
       "      <td>18.000000</td>\n",
       "      <td>0.000000</td>\n",
       "      <td>6.000000e+00</td>\n",
       "      <td>0.000000</td>\n",
       "      <td>0.000000</td>\n",
       "      <td>0.000000</td>\n",
       "      <td>1.088027e+04</td>\n",
       "      <td>1.0</td>\n",
       "    </tr>\n",
       "    <tr>\n",
       "      <th>25%</th>\n",
       "      <td>141291.500000</td>\n",
       "      <td>828.000000</td>\n",
       "      <td>33.000000</td>\n",
       "      <td>3.000000</td>\n",
       "      <td>3.870992e+05</td>\n",
       "      <td>2.000000</td>\n",
       "      <td>0.000000</td>\n",
       "      <td>0.000000</td>\n",
       "      <td>8.309488e+04</td>\n",
       "      <td>1.0</td>\n",
       "    </tr>\n",
       "    <tr>\n",
       "      <th>50%</th>\n",
       "      <td>170395.000000</td>\n",
       "      <td>866.000000</td>\n",
       "      <td>39.000000</td>\n",
       "      <td>4.000000</td>\n",
       "      <td>7.806715e+05</td>\n",
       "      <td>2.000000</td>\n",
       "      <td>1.000000</td>\n",
       "      <td>1.000000</td>\n",
       "      <td>1.253906e+05</td>\n",
       "      <td>1.0</td>\n",
       "    </tr>\n",
       "    <tr>\n",
       "      <th>75%</th>\n",
       "      <td>201279.750000</td>\n",
       "      <td>898.000000</td>\n",
       "      <td>51.000000</td>\n",
       "      <td>5.000000</td>\n",
       "      <td>1.348049e+06</td>\n",
       "      <td>3.000000</td>\n",
       "      <td>1.000000</td>\n",
       "      <td>1.000000</td>\n",
       "      <td>1.758780e+05</td>\n",
       "      <td>1.0</td>\n",
       "    </tr>\n",
       "    <tr>\n",
       "      <th>max</th>\n",
       "      <td>229058.000000</td>\n",
       "      <td>1000.000000</td>\n",
       "      <td>79.000000</td>\n",
       "      <td>9.000000</td>\n",
       "      <td>6.486621e+07</td>\n",
       "      <td>5.000000</td>\n",
       "      <td>1.000000</td>\n",
       "      <td>1.000000</td>\n",
       "      <td>1.263028e+06</td>\n",
       "      <td>1.0</td>\n",
       "    </tr>\n",
       "  </tbody>\n",
       "</table>\n",
       "</div>"
      ],
      "text/plain": [
       "             user_id        score          age       equity       balance  \\\n",
       "count    1822.000000  1822.000000  1822.000000  1822.000000  1.809000e+03   \n",
       "mean   170929.383644   863.414380    41.403403     3.763447  1.133287e+06   \n",
       "std     35284.250148    49.606824    10.976999     1.585049  2.032967e+06   \n",
       "min     94561.000000   706.000000    18.000000     0.000000  6.000000e+00   \n",
       "25%    141291.500000   828.000000    33.000000     3.000000  3.870992e+05   \n",
       "50%    170395.000000   866.000000    39.000000     4.000000  7.806715e+05   \n",
       "75%    201279.750000   898.000000    51.000000     5.000000  1.348049e+06   \n",
       "max    229058.000000  1000.000000    79.000000     9.000000  6.486621e+07   \n",
       "\n",
       "          products  credit_card  last_activity    est_salary   churn  \n",
       "count  1822.000000  1822.000000    1822.000000  1.822000e+03  1822.0  \n",
       "mean      2.377607     0.550494       0.702525  1.482000e+05     1.0  \n",
       "std       0.925034     0.497580       0.457273  1.228648e+05     0.0  \n",
       "min       0.000000     0.000000       0.000000  1.088027e+04     1.0  \n",
       "25%       2.000000     0.000000       0.000000  8.309488e+04     1.0  \n",
       "50%       2.000000     1.000000       1.000000  1.253906e+05     1.0  \n",
       "75%       3.000000     1.000000       1.000000  1.758780e+05     1.0  \n",
       "max       5.000000     1.000000       1.000000  1.263028e+06     1.0  "
      ]
     },
     "execution_count": 20,
     "metadata": {},
     "output_type": "execute_result"
    }
   ],
   "source": [
    "# посмотрим стат.данные для клиентов, которые ушли\n",
    "bank.query('churn == 1').describe()"
   ]
  },
  {
   "cell_type": "markdown",
   "id": "5a9f6392",
   "metadata": {},
   "source": [
    "У клиентов, которые ушли:\n",
    "- средний рейтинг и медиана выше;\n",
    "- средний возраст и медиана моложе;\n",
    "- средний показатель по шкале собственности и медиана выше;\n",
    "- выше средний остаток по счету и медиана;\n",
    "- активность выше;\n",
    "- средний доход и медиана выше.\n",
    "\n",
    "По данным медиан из таблицы, клиенты, которые покадают банк находятся в зоне приоритета банка. Они активны, возраста 39-41 год, имеющие 2 и более продукта и определенную собственность (шкала 4), с хорошим доходом и хорошими остатками по счету."
   ]
  },
  {
   "cell_type": "markdown",
   "id": "b750052a",
   "metadata": {},
   "source": [
    "### Исследуем отток клиентов"
   ]
  },
  {
   "cell_type": "code",
   "execution_count": 21,
   "id": "0d554bf7",
   "metadata": {},
   "outputs": [],
   "source": [
    "bank_hist = bank.drop(columns=['user_id','balance','est_salary','churn'], axis = 1)"
   ]
  },
  {
   "cell_type": "code",
   "execution_count": 80,
   "id": "5693a0d4",
   "metadata": {
    "scrolled": false
   },
   "outputs": [
    {
     "data": {
      "image/png": "[encoded data removed]",
      "text/plain": [
       "<Figure size 1080x1800 with 8 Axes>"
      ]
     },
     "metadata": {},
     "output_type": "display_data"
    }
   ],
   "source": [
    "# определимся с количеством строк и столбцов\n",
    "nrows, ncols = 4, 2\n",
    "# создадим счетчик для столбцов\n",
    "col = 0\n",
    " \n",
    "# создадим объекты fig и ax (в ax уже будет четыре подграфика)\n",
    "# дополнительно, помимо размера, зададим общую шкалу по обеим осям\n",
    "fig, ax = plt.subplots(nrows = nrows, ncols = ncols, figsize = (15,25))\n",
    "fig.tight_layout(h_pad=5)\n",
    "fig.suptitle('Нормированные гистограммы', fontsize=18, y = 1.04)\n",
    "\n",
    "for i in range(nrows):\n",
    "    for j in range(ncols):\n",
    "        sns.set_style('whitegrid')\n",
    "        sns.histplot(data=bank_hist, \\\n",
    "                     x=bank_hist.iloc[:, col], y=None, ax=ax[i, j], hue='churn_text',\\\n",
    "                     stat='density', common_norm = False, palette='hls')\n",
    "        ax[i, j].set_title(f'Распределение клиентов по столбцу {bank_hist.columns[col]}', fontsize = 13,)\n",
    "        ax[i, j].tick_params(axis='x', labelrotation=15)\n",
    " \n",
    " \n",
    "        if j == 0:\n",
    "            ax[i, j].set_ylabel('Частота')\n",
    "        else:\n",
    "            ax[i, j].set_ylabel('')\n",
    "        col += 1\n",
    "\n",
    "plt.show()"
   ]
  },
  {
   "cell_type": "markdown",
   "id": "d6d8c8b7",
   "metadata": {},
   "source": [
    "**Вывод:**\n",
    "Отток выше среди клиентов:\n",
    "- с рейтингом 820-910 и 930-940;\n",
    "- в городах Ярославль и Ростов;\n",
    "- мужского пола;\n",
    "- в возрасте 25-35, 50-60 лет;\n",
    "- с собственность по шкале от 3 и выше;\n",
    "- с продуктами банка от 2 и более;\n",
    "- без кредитной карты;\n",
    "- с активным счетом."
   ]
  },
  {
   "cell_type": "markdown",
   "id": "f49bea94",
   "metadata": {},
   "source": [
    "### Исследуем, как пол и возраст влияют на уход клиента  из банка"
   ]
  },
  {
   "cell_type": "markdown",
   "id": "0214ad45",
   "metadata": {},
   "source": [
    "Создадим категории по полу и возрасту и посмотрим в какой категории больше всего уходит клиентов"
   ]
  },
  {
   "cell_type": "code",
   "execution_count": 23,
   "id": "1b383109",
   "metadata": {},
   "outputs": [],
   "source": [
    "# создадим функцию, которая разделит клиентов по категориям выше\n",
    "def age_group(row):\n",
    "    age = row['age']\n",
    "    gender = row['gender']\n",
    "    if gender == 'Ж':\n",
    "        if age <= 24:\n",
    "            return 'Ж (до 24)'\n",
    "        if 25 <= age <= 38:\n",
    "            return 'Ж (25-38)'\n",
    "        if 39 <= age <= 50:\n",
    "            return 'Ж (39-50)'\n",
    "        if 51 <= age <= 59:\n",
    "            return 'Ж (51-59)'\n",
    "        if age >= 60:\n",
    "            return 'Ж (старше 60)'\n",
    "    elif gender == 'М':\n",
    "        if age <= 24:\n",
    "            return 'M (до 24)'\n",
    "        if 25 <= age <= 38:\n",
    "            return 'M (25-38)'\n",
    "        if 39 <= age <= 50:\n",
    "            return 'M (39-50)'\n",
    "        if 51 <= age <= 59:\n",
    "            return 'M (51-59)'\n",
    "        if age >= 60:\n",
    "            return 'M (старше 60)'"
   ]
  },
  {
   "cell_type": "code",
   "execution_count": 24,
   "id": "2a345433",
   "metadata": {},
   "outputs": [],
   "source": [
    "# применим функцию к датасету и создадим новый столбец с категориями клиентов\n",
    "bank['age_category'] = bank.apply(age_group, axis = 1)"
   ]
  },
  {
   "cell_type": "code",
   "execution_count": 25,
   "id": "e0b6b1f7",
   "metadata": {},
   "outputs": [],
   "source": [
    "# создадим функцию, которая будет отображать данные на графике barplot\n",
    "def show_values(axs, orient=\"v\", space=.01):\n",
    "    def _single(ax):\n",
    "        if orient == \"v\":\n",
    "            for p in ax.patches:\n",
    "                _x = p.get_x() + p.get_width() / 2\n",
    "                _y = p.get_y() + p.get_height() + (p.get_height()*0.01)\n",
    "                value = '{:.1f}'.format(p.get_height())\n",
    "                ax.text(_x, _y, value, ha=\"center\") \n",
    "        elif orient == \"h\":\n",
    "            for p in ax.patches:\n",
    "                _x = p.get_x() + p.get_width() + float(space)\n",
    "                _y = p.get_y() + p.get_height() - (p.get_height()*0.5)\n",
    "                value = '{:.2f}'.format(p.get_width())\n",
    "                ax.text(_x, _y, value, ha=\"left\")\n",
    "\n",
    "    if isinstance(axs, np.ndarray):\n",
    "        for idx, ax in np.ndenumerate(axs):\n",
    "            _single(ax)\n",
    "    else:\n",
    "        _single(axs)"
   ]
  },
  {
   "cell_type": "code",
   "execution_count": 53,
   "id": "3fe02c5e",
   "metadata": {},
   "outputs": [],
   "source": [
    "# создадим функцию для построения графиков `seaborn`\n",
    "def seaborn_graph(graph, df, x, y, hue, title, xlabel, ylabel, showfliers, stat, common_norm):\n",
    "    plt.figure(figsize=(15,8))\n",
    "    \n",
    "    palette = ['pastel', 'husl', 'Set2', 'tab10', 'hls', 'Paired']\n",
    "    sns.set_palette(random.choice(palette))\n",
    "    \n",
    "    if graph == 'histplot':\n",
    "        sns.set_style('white')\n",
    "        sns.histplot(data=df, x=x, y=y, hue=hue, stat=stat, common_norm = common_norm)\n",
    "        \n",
    "    elif graph == 'barplot':\n",
    "        sns.set_style('white')\n",
    "        ax = sns.barplot(data=df, x=x, y=y, hue=hue)\n",
    "        plt.legend(loc='lower right', fontsize=10)\n",
    "        show_values(ax, orient='h')\n",
    "        \n",
    "    elif graph == 'boxplot':\n",
    "        sns.set_style('white')\n",
    "        sns.boxplot(data=df, y=y, x=x, showfliers=showfliers)\n",
    "        \n",
    "    plt.title(title, fontsize = 20, y = 1.05)\n",
    "    plt.xlabel(xlabel, fontsize = 15)\n",
    "    plt.xticks(fontsize = 15, rotation=45)\n",
    "    plt.yticks(fontsize = 15)\n",
    "    plt.ylabel(ylabel, fontsize = 15)\n",
    "    plt.grid(True)\n",
    "    plt.show()"
   ]
  },
  {
   "cell_type": "code",
   "execution_count": 90,
   "id": "4d0d3b89",
   "metadata": {
    "scrolled": false
   },
   "outputs": [
    {
     "data": {
      "image/png": "[encoded data removed]",
      "text/plain": [
       "<Figure size 1080x576 with 1 Axes>"
      ]
     },
     "metadata": {},
     "output_type": "display_data"
    }
   ],
   "source": [
    "# построим нормированную гистограмму\n",
    "seaborn_graph(graph = 'histplot', df=bank,\\\n",
    "              x='age_category', y = None, hue = 'churn_text',\\\n",
    "              title = 'Нормированная гистограмма оттока клиентов по полу и возрасту',\\\n",
    "              xlabel = 'Пол и возраст клиента',\\\n",
    "              ylabel = 'Отток',\\\n",
    "              showfliers = None, stat='density', common_norm = False)"
   ]
  },
  {
   "cell_type": "markdown",
   "id": "69cbf8cf",
   "metadata": {},
   "source": [
    "**Вывод:** Диаграмма показывает, что чаще покидают банк мужчины (всех возрастов) и женщины 51-59 лет."
   ]
  },
  {
   "cell_type": "markdown",
   "id": "2427b319",
   "metadata": {},
   "source": [
    "### Исследуем, как город обслуживания влияет на отток клиента"
   ]
  },
  {
   "cell_type": "code",
   "execution_count": 28,
   "id": "59c8f17b",
   "metadata": {},
   "outputs": [],
   "source": [
    "# посчитаем процент ушедших/оставшихся клиентов\n",
    "perc = bank.groupby(['city', 'churn_text'], as_index=False).agg({'user_id':'count'})\n",
    "for value in perc['city'].unique():\n",
    "    sum_values = perc.loc[(perc['city'] == value), 'user_id'].sum()\n",
    "    for churn in perc['churn_text'].unique():\n",
    "        perc.loc[(perc['city'] == value) & ((perc['churn_text'] == churn)), 'user_id'] =\\\n",
    "        (perc.loc[(perc['city'] == value) & ((perc['churn_text'] == churn)), 'user_id']/sum_values*100).round()"
   ]
  },
  {
   "cell_type": "code",
   "execution_count": 63,
   "id": "20fce7a2",
   "metadata": {},
   "outputs": [
    {
     "data": {
      "image/png": "[encoded data removed]",
      "text/plain": [
       "<Figure size 1080x576 with 1 Axes>"
      ]
     },
     "metadata": {},
     "output_type": "display_data"
    }
   ],
   "source": [
    "seaborn_graph(graph='barplot',\n",
    "                  df=perc,\n",
    "                  x='user_id', \n",
    "                  y='city',\n",
    "                  hue='churn_text', \n",
    "                  title='Процент ушедших/оставшихся клиентов по городам',\n",
    "                  xlabel='Доля оттока, %', \n",
    "                  ylabel='Город обслуживания', \n",
    "                  showfliers=None, stat=None, common_norm=None)"
   ]
  },
  {
   "cell_type": "markdown",
   "id": "a5bd870d",
   "metadata": {},
   "source": [
    "Доли оттока показывают, что банк в Ярославле и Ростове теряет одинаковый процент клиентов. В целом, отток клиентов можно назвать равномерным по всем трем городам."
   ]
  },
  {
   "cell_type": "markdown",
   "id": "cc4c7f78",
   "metadata": {},
   "source": [
    "### Исследуем, как заработная плата влияет на уход клиента"
   ]
  },
  {
   "cell_type": "code",
   "execution_count": 94,
   "id": "3fa7960d",
   "metadata": {
    "scrolled": false
   },
   "outputs": [
    {
     "data": {
      "image/png": "[encoded data removed]",
      "text/plain": [
       "<Figure size 1080x576 with 1 Axes>"
      ]
     },
     "metadata": {},
     "output_type": "display_data"
    }
   ],
   "source": [
    "# построим нормированную гистограмму\n",
    "seaborn_graph(graph = 'histplot', df=bank.query('est_salary <= 400000'),\\\n",
    "              x='est_salary', y = None, hue = 'churn_text',\\\n",
    "              title = 'Распределение дохода',\\\n",
    "              xlabel = 'Сумма заработной платы',\\\n",
    "              ylabel = 'Частота',\n",
    "              showfliers = None, stat='density', common_norm = False)"
   ]
  },
  {
   "cell_type": "markdown",
   "id": "045adad5",
   "metadata": {},
   "source": [
    "**Вывод:** уходит наибольшее количество клиентов с заработной платой ок.100-135, 150-210, 230, 260 т.р."
   ]
  },
  {
   "cell_type": "markdown",
   "id": "f713b808",
   "metadata": {},
   "source": [
    "### Матрица корреляций"
   ]
  },
  {
   "cell_type": "markdown",
   "id": "48bfacad",
   "metadata": {},
   "source": [
    "Построим матрицу корреляций Phik, т.к. в нашем наборе данных присутсвуют не только числовые, но и категориальные переменные. "
   ]
  },
  {
   "cell_type": "code",
   "execution_count": 31,
   "id": "6f1fabfd",
   "metadata": {},
   "outputs": [],
   "source": [
    "# создадим копию датасета\n",
    "bank_phik = bank.copy()"
   ]
  },
  {
   "cell_type": "code",
   "execution_count": 32,
   "id": "e11436dd",
   "metadata": {},
   "outputs": [],
   "source": [
    "# удалим стобцы, котоыре создавались нами для удобства\n",
    "bank_phik = bank_phik.drop(['churn_text', 'age_category'], axis = 1)"
   ]
  },
  {
   "cell_type": "code",
   "execution_count": 33,
   "id": "73ca115a",
   "metadata": {},
   "outputs": [],
   "source": [
    "# столбец с id пользователя сделаем индексом, чтобы он не попадал в матрицу\n",
    "bank_phik = bank_phik.set_index('user_id')"
   ]
  },
  {
   "cell_type": "code",
   "execution_count": 34,
   "id": "65fa51f3",
   "metadata": {},
   "outputs": [
    {
     "name": "stdout",
     "output_type": "stream",
     "text": [
      "interval columns not set, guessing: ['score', 'age', 'equity', 'balance', 'products', 'credit_card', 'last_activity', 'est_salary', 'churn']\n"
     ]
    }
   ],
   "source": [
    "# получаем корреляционную матрицу\n",
    "phik_overview = bank_phik.phik_matrix()\n",
    "\n",
    "# округляем значения до сотых\n",
    "phik_overview = phik_overview.round(2)"
   ]
  },
  {
   "cell_type": "code",
   "execution_count": 35,
   "id": "c2c6ae1b",
   "metadata": {},
   "outputs": [
    {
     "data": {
      "image/png": "[encoded data removed]",
      "text/plain": [
       "<Figure size 720x576 with 2 Axes>"
      ]
     },
     "metadata": {},
     "output_type": "display_data"
    }
   ],
   "source": [
    "# визуализируем матрицу\n",
    "plot_correlation_matrix(phik_overview.values, \n",
    "                        x_labels=phik_overview.columns, \n",
    "                        y_labels=phik_overview.index, \n",
    "                        vmin=0, vmax=1, color_map=\"Greens\", \n",
    "                        title=\"Матрица кореляций $\\phi_K$\", \n",
    "                        fontsize_factor=1.5, \n",
    "                        figsize=(10, 8))\n",
    "plt.tight_layout()"
   ]
  },
  {
   "cell_type": "markdown",
   "id": "13ca1672",
   "metadata": {},
   "source": [
    "**Вывод:** Отток клиентов сильнее всего коррелирует с:\n",
    "- количеством продуктов;\n",
    "- собственностью;\n",
    "- активностью;\n",
    "\n",
    "И далее с:\n",
    "- полом клиента;\n",
    "- наличием кредитной карты;\n",
    "- кредитным рейтингом"
   ]
  },
  {
   "cell_type": "markdown",
   "id": "f39045e8",
   "metadata": {},
   "source": [
    "### Переведем категориальные данные в числовые."
   ]
  },
  {
   "cell_type": "code",
   "execution_count": 36,
   "id": "338ff472",
   "metadata": {},
   "outputs": [],
   "source": [
    "# создадим еще один датафрейм с числовыми данными\n",
    "bank_new = bank.copy()\n",
    "\n",
    "# используем кодировщик для перевода данных\n",
    "transformer = make_column_transformer(\n",
    "    (OneHotEncoder(), ['gender']),\n",
    "    remainder='passthrough')\n",
    "\n",
    "transformed = transformer.fit_transform(bank_new)\n",
    "bank_new = pd.DataFrame(transformed, columns=transformer.get_feature_names())\n",
    "\n",
    "bank_new = bank_new.rename(columns=({'onehotencoder__x0_Ж': 'woman', 'onehotencoder__x0_М':'man'}))"
   ]
  },
  {
   "cell_type": "code",
   "execution_count": 37,
   "id": "5efb0417",
   "metadata": {},
   "outputs": [],
   "source": [
    "bank_new = bank_new.drop(columns=['user_id', 'churn_text', 'age_category', 'city', 'balance', 'est_salary', 'age'], axis = 1)"
   ]
  },
  {
   "cell_type": "code",
   "execution_count": 38,
   "id": "394f65ca",
   "metadata": {},
   "outputs": [],
   "source": [
    "bank_new = bank_new.query('churn == 1')"
   ]
  },
  {
   "cell_type": "code",
   "execution_count": 39,
   "id": "bfa377bb",
   "metadata": {},
   "outputs": [
    {
     "data": {
      "text/html": [
       "<div>\n",
       "<style scoped>\n",
       "    .dataframe tbody tr th:only-of-type {\n",
       "        vertical-align: middle;\n",
       "    }\n",
       "\n",
       "    .dataframe tbody tr th {\n",
       "        vertical-align: top;\n",
       "    }\n",
       "\n",
       "    .dataframe thead th {\n",
       "        text-align: right;\n",
       "    }\n",
       "</style>\n",
       "<table border=\"1\" class=\"dataframe\">\n",
       "  <thead>\n",
       "    <tr style=\"text-align: right;\">\n",
       "      <th></th>\n",
       "      <th>woman</th>\n",
       "      <th>man</th>\n",
       "      <th>score</th>\n",
       "      <th>equity</th>\n",
       "      <th>products</th>\n",
       "      <th>credit_card</th>\n",
       "      <th>last_activity</th>\n",
       "      <th>churn</th>\n",
       "    </tr>\n",
       "  </thead>\n",
       "  <tbody>\n",
       "    <tr>\n",
       "      <th>0</th>\n",
       "      <td>1.0</td>\n",
       "      <td>0.0</td>\n",
       "      <td>850</td>\n",
       "      <td>1</td>\n",
       "      <td>2</td>\n",
       "      <td>0</td>\n",
       "      <td>1</td>\n",
       "      <td>1</td>\n",
       "    </tr>\n",
       "    <tr>\n",
       "      <th>3</th>\n",
       "      <td>1.0</td>\n",
       "      <td>0.0</td>\n",
       "      <td>866</td>\n",
       "      <td>5</td>\n",
       "      <td>2</td>\n",
       "      <td>0</td>\n",
       "      <td>1</td>\n",
       "      <td>1</td>\n",
       "    </tr>\n",
       "    <tr>\n",
       "      <th>4</th>\n",
       "      <td>0.0</td>\n",
       "      <td>1.0</td>\n",
       "      <td>730</td>\n",
       "      <td>5</td>\n",
       "      <td>1</td>\n",
       "      <td>1</td>\n",
       "      <td>0</td>\n",
       "      <td>1</td>\n",
       "    </tr>\n",
       "    <tr>\n",
       "      <th>12</th>\n",
       "      <td>1.0</td>\n",
       "      <td>0.0</td>\n",
       "      <td>845</td>\n",
       "      <td>3</td>\n",
       "      <td>2</td>\n",
       "      <td>1</td>\n",
       "      <td>1</td>\n",
       "      <td>1</td>\n",
       "    </tr>\n",
       "    <tr>\n",
       "      <th>40</th>\n",
       "      <td>0.0</td>\n",
       "      <td>1.0</td>\n",
       "      <td>811</td>\n",
       "      <td>2</td>\n",
       "      <td>1</td>\n",
       "      <td>0</td>\n",
       "      <td>0</td>\n",
       "      <td>1</td>\n",
       "    </tr>\n",
       "  </tbody>\n",
       "</table>\n",
       "</div>"
      ],
      "text/plain": [
       "   woman  man score equity products credit_card last_activity churn\n",
       "0    1.0  0.0   850      1        2           0             1     1\n",
       "3    1.0  0.0   866      5        2           0             1     1\n",
       "4    0.0  1.0   730      5        1           1             0     1\n",
       "12   1.0  0.0   845      3        2           1             1     1\n",
       "40   0.0  1.0   811      2        1           0             0     1"
      ]
     },
     "execution_count": 39,
     "metadata": {},
     "output_type": "execute_result"
    }
   ],
   "source": [
    "bank_new.head()"
   ]
  },
  {
   "cell_type": "markdown",
   "id": "9c5f97e4",
   "metadata": {},
   "source": [
    "### Проведем кластеризацию клиентов."
   ]
  },
  {
   "cell_type": "markdown",
   "id": "f3de3938",
   "metadata": {},
   "source": [
    "Определим количество кластеров."
   ]
  },
  {
   "cell_type": "code",
   "execution_count": 40,
   "id": "3352e214",
   "metadata": {},
   "outputs": [
    {
     "data": {
      "image/png": "[encoded data removed]",
      "text/plain": [
       "<Figure size 432x288 with 1 Axes>"
      ]
     },
     "metadata": {},
     "output_type": "display_data"
    }
   ],
   "source": [
    "K = range(1, 8)\n",
    "KM = (sk.KMeans(n_clusters=k).fit(bank_new) for k in K)\n",
    "centroids = (k.cluster_centers_ for k in KM)\n",
    "\n",
    "D_k = (sci_distance.cdist(bank_new, cent, 'euclidean') for cent in centroids)\n",
    "dist = (np.min(D, axis=1) for D in D_k)\n",
    "avgWithinSS = [sum(d) / bank_new.shape[0] for d in dist]\n",
    "plt.plot(K, avgWithinSS, 'b*-')\n",
    "plt.grid(True)\n",
    "plt.xlabel('Количество кластеров')\n",
    "plt.ylabel('Средняя сумма квадратов внутри кластера')\n",
    "plt.title('Кластеризация')\n",
    "plt.show()"
   ]
  },
  {
   "cell_type": "markdown",
   "id": "7d728571",
   "metadata": {},
   "source": [
    "Наиболее оптимальное количество кластеров - 3"
   ]
  },
  {
   "cell_type": "code",
   "execution_count": 41,
   "id": "5e3dc878",
   "metadata": {},
   "outputs": [],
   "source": [
    "# стандартизируем данные\n",
    "sc = StandardScaler()\n",
    "X_sc = sc.fit_transform(bank_new)"
   ]
  },
  {
   "cell_type": "code",
   "execution_count": 42,
   "id": "3f9484a7",
   "metadata": {},
   "outputs": [],
   "source": [
    "km = KMeans(n_clusters=3, random_state=0) # задаём число кластеров и фиксируем значение random_state для воспроизводимости результата\n",
    "labels = km.fit_predict(X_sc) # формируем метки кластеров"
   ]
  },
  {
   "cell_type": "code",
   "execution_count": 43,
   "id": "b74efec7",
   "metadata": {},
   "outputs": [],
   "source": [
    "# сохраняем метки кластеров в поле нашего датасета\n",
    "bank_new['cluster_km'] = labels"
   ]
  },
  {
   "cell_type": "code",
   "execution_count": 44,
   "id": "9b095f2c",
   "metadata": {},
   "outputs": [],
   "source": [
    "bank_new = bank_new.astype('int')"
   ]
  },
  {
   "cell_type": "code",
   "execution_count": 45,
   "id": "b1780fe1",
   "metadata": {},
   "outputs": [
    {
     "data": {
      "text/html": [
       "<div>\n",
       "<style scoped>\n",
       "    .dataframe tbody tr th:only-of-type {\n",
       "        vertical-align: middle;\n",
       "    }\n",
       "\n",
       "    .dataframe tbody tr th {\n",
       "        vertical-align: top;\n",
       "    }\n",
       "\n",
       "    .dataframe thead th {\n",
       "        text-align: right;\n",
       "    }\n",
       "</style>\n",
       "<table border=\"1\" class=\"dataframe\">\n",
       "  <thead>\n",
       "    <tr style=\"text-align: right;\">\n",
       "      <th></th>\n",
       "      <th>woman</th>\n",
       "      <th>man</th>\n",
       "      <th>score</th>\n",
       "      <th>equity</th>\n",
       "      <th>products</th>\n",
       "      <th>credit_card</th>\n",
       "      <th>last_activity</th>\n",
       "      <th>churn</th>\n",
       "    </tr>\n",
       "    <tr>\n",
       "      <th>cluster_km</th>\n",
       "      <th></th>\n",
       "      <th></th>\n",
       "      <th></th>\n",
       "      <th></th>\n",
       "      <th></th>\n",
       "      <th></th>\n",
       "      <th></th>\n",
       "      <th></th>\n",
       "    </tr>\n",
       "  </thead>\n",
       "  <tbody>\n",
       "    <tr>\n",
       "      <th>0</th>\n",
       "      <td>0.0</td>\n",
       "      <td>1.0</td>\n",
       "      <td>823.01</td>\n",
       "      <td>2.74</td>\n",
       "      <td>1.92</td>\n",
       "      <td>0.89</td>\n",
       "      <td>0.53</td>\n",
       "      <td>1.0</td>\n",
       "    </tr>\n",
       "    <tr>\n",
       "      <th>1</th>\n",
       "      <td>1.0</td>\n",
       "      <td>0.0</td>\n",
       "      <td>865.60</td>\n",
       "      <td>3.67</td>\n",
       "      <td>2.43</td>\n",
       "      <td>0.43</td>\n",
       "      <td>0.80</td>\n",
       "      <td>1.0</td>\n",
       "    </tr>\n",
       "    <tr>\n",
       "      <th>2</th>\n",
       "      <td>0.0</td>\n",
       "      <td>1.0</td>\n",
       "      <td>890.87</td>\n",
       "      <td>4.60</td>\n",
       "      <td>2.66</td>\n",
       "      <td>0.41</td>\n",
       "      <td>0.74</td>\n",
       "      <td>1.0</td>\n",
       "    </tr>\n",
       "  </tbody>\n",
       "</table>\n",
       "</div>"
      ],
      "text/plain": [
       "            woman  man   score  equity  products  credit_card  last_activity  \\\n",
       "cluster_km                                                                     \n",
       "0             0.0  1.0  823.01    2.74      1.92         0.89           0.53   \n",
       "1             1.0  0.0  865.60    3.67      2.43         0.43           0.80   \n",
       "2             0.0  1.0  890.87    4.60      2.66         0.41           0.74   \n",
       "\n",
       "            churn  \n",
       "cluster_km         \n",
       "0             1.0  \n",
       "1             1.0  \n",
       "2             1.0  "
      ]
     },
     "execution_count": 45,
     "metadata": {},
     "output_type": "execute_result"
    }
   ],
   "source": [
    "# выводим статистику по средним значениям наших признаков по кластеру\n",
    "bank_new.groupby('cluster_km').mean().round(2)"
   ]
  },
  {
   "cell_type": "markdown",
   "id": "838e869c",
   "metadata": {},
   "source": [
    "### Определение сегментов с отточными клиентами"
   ]
  },
  {
   "cell_type": "code",
   "execution_count": 46,
   "id": "2c466058",
   "metadata": {},
   "outputs": [
    {
     "name": "stdout",
     "output_type": "stream",
     "text": [
      "Отток клиентов Сегмента 1 составляет 35.51 %\n",
      "\n",
      "Всего из Сегмента 1 банк теряет 647 клиента(-ов)\n",
      "\n"
     ]
    }
   ],
   "source": [
    "segm_1 = bank.query('equity >= 3 and \\\n",
    "            products >= 2 and \\\n",
    "            credit_card == 0 and\\\n",
    "            score >= 820')\n",
    "print('Отток клиентов Сегмента 1 составляет {0} %'.\\\n",
    "      format((segm_1.query('churn == 1')['user_id'].count()/bank.query('churn == 1')['user_id'].count()*100).round(2)))\n",
    "print()\n",
    "print('Всего из Сегмента 1 банк теряет {0} клиента(-ов)'.\\\n",
    "      format(segm_1.query('churn == 1')['user_id'].count()))\n",
    "print()"
   ]
  },
  {
   "cell_type": "code",
   "execution_count": 47,
   "id": "4285cc5e",
   "metadata": {},
   "outputs": [
    {
     "name": "stdout",
     "output_type": "stream",
     "text": [
      "Отток клиентов Сегмента 2 составляет 35.89 %\n",
      "\n",
      "Всего из Сегмента 2 банк теряет 654 клиента(-ов)\n",
      "\n"
     ]
    }
   ],
   "source": [
    "segm_2 = bank.query('equity >= 3 and \\\n",
    "            products >= 2 and \\\n",
    "            last_activity == 1 and\\\n",
    "            (gender == \"М\" or age_category == \"Ж (51-59)\")')\n",
    "print('Отток клиентов Сегмента 2 составляет {0} %'.\\\n",
    "      format((segm_2.query('churn == 1')['user_id'].count()/bank.query('churn == 1')['user_id'].count()*100).round(2)))\n",
    "print()\n",
    "print('Всего из Сегмента 2 банк теряет {0} клиента(-ов)'.\\\n",
    "      format(segm_2.query('churn == 1')['user_id'].count()))\n",
    "print()"
   ]
  },
  {
   "cell_type": "code",
   "execution_count": 48,
   "id": "72179475",
   "metadata": {},
   "outputs": [
    {
     "name": "stdout",
     "output_type": "stream",
     "text": [
      "Отток клиентов Сегмента 3 составляет 47.2 %\n",
      "\n",
      "Всего из Сегмента 3 банк теряет 860 клиента(-ов)\n",
      "\n"
     ]
    }
   ],
   "source": [
    "segm_3 = bank.query('equity >= 3 and \\\n",
    "             products >= 2 and \\\n",
    "             last_activity == 1 and\\\n",
    "             score >= 820')\n",
    "print('Отток клиентов Сегмента 3 составляет {0} %'.\\\n",
    "      format((segm_3.query('churn == 1')['user_id'].count()/bank.query('churn == 1')['user_id'].count()*100).round(2)))\n",
    "print()\n",
    "print('Всего из Сегмента 3 банк теряет {0} клиента(-ов)'.\\\n",
    "      format(segm_3.query('churn == 1')['user_id'].count()))\n",
    "print()"
   ]
  },
  {
   "cell_type": "code",
   "execution_count": 73,
   "id": "529d78dd",
   "metadata": {
    "scrolled": false
   },
   "outputs": [
    {
     "data": {
      "image/png": "[encoded data removed]",
      "text/plain": [
       "<Figure size 1080x1080 with 3 Axes>"
      ]
     },
     "metadata": {},
     "output_type": "display_data"
    }
   ],
   "source": [
    "palette = ['pastel', 'husl', 'Set2', 'tab10', 'hls', 'Paired']\n",
    "fig = plt.figure(figsize=(15, 15))\n",
    "fig.suptitle('Круговые диаграммы с процентами оттока по сегментам', fontsize=20, y=0.7)\n",
    "sns.set(font_scale=1.5)\n",
    "ax1 = fig.add_subplot(131)\n",
    "ax2 = fig.add_subplot(132)\n",
    "ax3 = fig.add_subplot(133)\n",
    "\n",
    "ax1.pie(segm_1.groupby('churn_text', as_index=False).agg({'user_id':'count'})['user_id'], \\\n",
    "        labels=segm_1.groupby('churn_text', as_index=False).agg({'user_id':'count'})['churn_text'], \\\n",
    "        colors = sns.color_palette(random.choice(palette)), explode=[0, 0.1], autopct='%.0f%%')\n",
    "ax1.set_title('Сегмент 1', fontsize = 16)\n",
    "\n",
    "ax2.pie(segm_2.groupby('churn_text', as_index=False).agg({'user_id':'count'})['user_id'], \\\n",
    "        labels=segm_2.groupby('churn_text', as_index=False).agg({'user_id':'count'})['churn_text'], \\\n",
    "        colors = sns.color_palette(random.choice(palette)), explode=[0, 0.1], autopct='%.0f%%')\n",
    "ax2.set_title('Сегмент 2', fontsize = 16)\n",
    "\n",
    "ax3.pie(segm_3.groupby('churn_text', as_index=False).agg({'user_id':'count'})['user_id'], \\\n",
    "        labels=segm_3.groupby('churn_text', as_index=False).agg({'user_id':'count'})['churn_text'], \\\n",
    "        colors = sns.color_palette(random.choice(palette)), explode=[0, 0.1], autopct='%.0f%%')\n",
    "ax3.set_title('Сегмент 3', fontsize = 16)\n",
    "\n",
    "\n",
    "plt.show()"
   ]
  },
  {
   "cell_type": "markdown",
   "id": "3646f5bc",
   "metadata": {},
   "source": [
    "**Вывод:** \n",
    "\n",
    "**I. Cегмент 1:**\n",
    "- количество продуктов более 2х; \n",
    "- шкала собственности более 3; \n",
    "- без крединой карты;\n",
    "- кредитный рейтинг более 820.\n",
    "\n",
    "Отток составляет 647 клиентов (35,51%) из общего количества клиентов Банка и 41% внутри сегмента.\n",
    "\n",
    "**II. Сегмент 2:**\n",
    "- количество продуктов более 2х; \n",
    "- шкала собственности более 3; \n",
    "- активный счет;\n",
    "- мужского пола всех возрастов и женского пола в возрасте 51-59 лет.\n",
    "\n",
    "Отток составляет 654 клиентов (35,89%)из общего количества клиентов Банка и 47% внутри сегмента.\n",
    "\n",
    "**III. Сегмент 3:**\n",
    "- количество продуктов более 2х; \n",
    "- шкала собственности более 3; \n",
    "- активный счет;\n",
    "- кредитный рейтинг более 820.\n",
    "\n",
    "Отток составляет 860 клиентов (47,2%) из общего количества клиентов Банка и 49% внутри сегмента."
   ]
  }
 ],
 "metadata": {
  "ExecuteTimeLog": [
   {
    "duration": 2715,
    "start_time": "2023-03-10T15:46:15.704Z"
   },
   {
    "duration": 2,
    "start_time": "2023-03-10T15:46:18.421Z"
   },
   {
    "duration": 4,
    "start_time": "2023-03-10T15:46:18.425Z"
   },
   {
    "duration": 1146,
    "start_time": "2023-03-10T15:46:18.431Z"
   },
   {
    "duration": 26,
    "start_time": "2023-03-10T15:46:19.578Z"
   },
   {
    "duration": 2,
    "start_time": "2023-03-10T15:46:19.606Z"
   },
   {
    "duration": 4,
    "start_time": "2023-03-10T15:46:19.610Z"
   },
   {
    "duration": 11,
    "start_time": "2023-03-10T15:46:19.616Z"
   },
   {
    "duration": 21,
    "start_time": "2023-03-10T15:46:19.628Z"
   },
   {
    "duration": 18,
    "start_time": "2023-03-10T15:46:19.652Z"
   },
   {
    "duration": 5,
    "start_time": "2023-03-10T15:46:19.672Z"
   },
   {
    "duration": 521,
    "start_time": "2023-03-10T15:46:19.679Z"
   },
   {
    "duration": 15,
    "start_time": "2023-03-10T15:46:20.202Z"
   },
   {
    "duration": 23,
    "start_time": "2023-03-10T15:46:20.219Z"
   },
   {
    "duration": 111,
    "start_time": "2023-03-10T15:46:20.247Z"
   },
   {
    "duration": 13,
    "start_time": "2023-03-10T15:46:20.360Z"
   },
   {
    "duration": 16,
    "start_time": "2023-03-10T15:46:20.375Z"
   },
   {
    "duration": 9,
    "start_time": "2023-03-10T15:46:20.393Z"
   },
   {
    "duration": 6,
    "start_time": "2023-03-10T15:46:20.404Z"
   },
   {
    "duration": 38,
    "start_time": "2023-03-10T15:46:20.412Z"
   },
   {
    "duration": 16,
    "start_time": "2023-03-10T15:46:20.452Z"
   },
   {
    "duration": 17,
    "start_time": "2023-03-10T15:46:20.471Z"
   },
   {
    "duration": 7,
    "start_time": "2023-03-10T15:46:20.490Z"
   },
   {
    "duration": 7,
    "start_time": "2023-03-10T15:46:20.498Z"
   },
   {
    "duration": 38,
    "start_time": "2023-03-10T15:46:20.507Z"
   },
   {
    "duration": 21,
    "start_time": "2023-03-10T15:46:20.548Z"
   },
   {
    "duration": 4,
    "start_time": "2023-03-10T15:46:20.571Z"
   },
   {
    "duration": 14,
    "start_time": "2023-03-10T15:46:20.579Z"
   },
   {
    "duration": 13,
    "start_time": "2023-03-10T15:46:20.594Z"
   },
   {
    "duration": 4,
    "start_time": "2023-03-10T15:46:20.609Z"
   },
   {
    "duration": 5,
    "start_time": "2023-03-10T15:46:20.614Z"
   },
   {
    "duration": 27,
    "start_time": "2023-03-10T15:46:20.621Z"
   },
   {
    "duration": 24,
    "start_time": "2023-03-10T15:46:20.650Z"
   },
   {
    "duration": 57,
    "start_time": "2023-03-10T15:46:20.676Z"
   },
   {
    "duration": 56,
    "start_time": "2023-03-10T15:46:20.734Z"
   },
   {
    "duration": 177,
    "start_time": "2023-03-10T15:46:20.792Z"
   },
   {
    "duration": 158,
    "start_time": "2023-03-10T15:46:20.971Z"
   },
   {
    "duration": 169,
    "start_time": "2023-03-10T15:46:21.131Z"
   },
   {
    "duration": 168,
    "start_time": "2023-03-10T15:46:21.302Z"
   },
   {
    "duration": 5,
    "start_time": "2023-03-10T15:46:21.472Z"
   },
   {
    "duration": 6,
    "start_time": "2023-03-10T15:46:21.478Z"
   },
   {
    "duration": 4,
    "start_time": "2023-03-10T15:46:21.485Z"
   },
   {
    "duration": 6,
    "start_time": "2023-03-10T15:46:21.490Z"
   },
   {
    "duration": 3,
    "start_time": "2023-03-10T15:46:21.498Z"
   },
   {
    "duration": 49,
    "start_time": "2023-03-10T15:46:21.502Z"
   },
   {
    "duration": 11,
    "start_time": "2023-03-10T15:46:21.560Z"
   },
   {
    "duration": 5,
    "start_time": "2023-03-10T15:46:21.572Z"
   },
   {
    "duration": 100,
    "start_time": "2023-03-10T15:46:21.579Z"
   },
   {
    "duration": 2231,
    "start_time": "2023-03-10T15:46:21.681Z"
   },
   {
    "duration": 160,
    "start_time": "2023-03-10T15:46:23.914Z"
   },
   {
    "duration": 511,
    "start_time": "2023-03-10T15:46:24.076Z"
   },
   {
    "duration": 95,
    "start_time": "2023-03-10T15:46:24.589Z"
   },
   {
    "duration": 215,
    "start_time": "2023-03-10T15:46:24.686Z"
   },
   {
    "duration": 0,
    "start_time": "2023-03-10T15:46:24.903Z"
   },
   {
    "duration": 0,
    "start_time": "2023-03-10T15:46:24.905Z"
   },
   {
    "duration": 0,
    "start_time": "2023-03-10T15:46:24.906Z"
   },
   {
    "duration": 0,
    "start_time": "2023-03-10T15:46:24.907Z"
   },
   {
    "duration": 0,
    "start_time": "2023-03-10T15:46:24.909Z"
   },
   {
    "duration": 0,
    "start_time": "2023-03-10T15:46:24.911Z"
   },
   {
    "duration": 0,
    "start_time": "2023-03-10T15:46:24.912Z"
   },
   {
    "duration": 0,
    "start_time": "2023-03-10T15:46:24.913Z"
   },
   {
    "duration": 0,
    "start_time": "2023-03-10T15:46:24.914Z"
   },
   {
    "duration": 0,
    "start_time": "2023-03-10T15:46:24.915Z"
   },
   {
    "duration": 0,
    "start_time": "2023-03-10T15:46:24.941Z"
   },
   {
    "duration": 0,
    "start_time": "2023-03-10T15:46:24.954Z"
   },
   {
    "duration": 0,
    "start_time": "2023-03-10T15:46:24.956Z"
   },
   {
    "duration": 0,
    "start_time": "2023-03-10T15:46:24.957Z"
   },
   {
    "duration": 0,
    "start_time": "2023-03-10T15:46:24.958Z"
   },
   {
    "duration": 0,
    "start_time": "2023-03-10T15:46:24.960Z"
   },
   {
    "duration": 0,
    "start_time": "2023-03-10T15:46:24.961Z"
   },
   {
    "duration": 0,
    "start_time": "2023-03-10T15:46:24.962Z"
   },
   {
    "duration": 0,
    "start_time": "2023-03-10T15:46:24.963Z"
   },
   {
    "duration": 0,
    "start_time": "2023-03-10T15:46:24.964Z"
   },
   {
    "duration": 0,
    "start_time": "2023-03-10T15:46:24.964Z"
   },
   {
    "duration": 0,
    "start_time": "2023-03-10T15:46:24.965Z"
   },
   {
    "duration": 0,
    "start_time": "2023-03-10T15:46:24.966Z"
   },
   {
    "duration": 0,
    "start_time": "2023-03-10T15:46:24.967Z"
   },
   {
    "duration": 79,
    "start_time": "2023-03-10T16:59:34.202Z"
   },
   {
    "duration": 12,
    "start_time": "2023-03-10T17:05:32.125Z"
   },
   {
    "duration": 12,
    "start_time": "2023-03-10T17:05:32.395Z"
   },
   {
    "duration": 356,
    "start_time": "2023-03-10T17:05:32.593Z"
   },
   {
    "duration": 27,
    "start_time": "2023-03-10T17:05:33.333Z"
   },
   {
    "duration": 11,
    "start_time": "2023-03-10T17:05:33.483Z"
   },
   {
    "duration": 1575,
    "start_time": "2023-03-10T17:05:33.633Z"
   },
   {
    "duration": 425,
    "start_time": "2023-03-10T17:05:35.211Z"
   },
   {
    "duration": 14,
    "start_time": "2023-03-10T17:05:35.643Z"
   },
   {
    "duration": 4,
    "start_time": "2023-03-10T17:05:35.659Z"
   },
   {
    "duration": 7,
    "start_time": "2023-03-10T17:05:35.665Z"
   },
   {
    "duration": 22,
    "start_time": "2023-03-10T17:05:35.674Z"
   },
   {
    "duration": 54,
    "start_time": "2023-03-10T17:05:35.698Z"
   },
   {
    "duration": 864,
    "start_time": "2023-03-10T17:05:35.756Z"
   },
   {
    "duration": 311,
    "start_time": "2023-03-10T17:05:36.623Z"
   },
   {
    "duration": 798,
    "start_time": "2023-03-10T17:05:37.462Z"
   },
   {
    "duration": 12,
    "start_time": "2023-03-10T17:05:38.484Z"
   },
   {
    "duration": 956,
    "start_time": "2023-03-10T17:05:38.692Z"
   },
   {
    "duration": 7,
    "start_time": "2023-03-10T17:05:39.650Z"
   },
   {
    "duration": 110,
    "start_time": "2023-03-10T17:05:39.660Z"
   },
   {
    "duration": 23,
    "start_time": "2023-03-10T17:05:39.772Z"
   },
   {
    "duration": 21,
    "start_time": "2023-03-10T17:05:40.510Z"
   },
   {
    "duration": 14,
    "start_time": "2023-03-10T17:05:43.610Z"
   },
   {
    "duration": 13,
    "start_time": "2023-03-10T17:05:46.094Z"
   },
   {
    "duration": 1968,
    "start_time": "2023-03-11T20:06:56.418Z"
   },
   {
    "duration": 0,
    "start_time": "2023-03-11T20:06:58.390Z"
   },
   {
    "duration": 0,
    "start_time": "2023-03-11T20:06:58.392Z"
   },
   {
    "duration": 0,
    "start_time": "2023-03-11T20:06:58.393Z"
   },
   {
    "duration": 0,
    "start_time": "2023-03-11T20:06:58.395Z"
   },
   {
    "duration": 0,
    "start_time": "2023-03-11T20:06:58.396Z"
   },
   {
    "duration": 0,
    "start_time": "2023-03-11T20:06:58.397Z"
   },
   {
    "duration": 0,
    "start_time": "2023-03-11T20:06:58.398Z"
   },
   {
    "duration": 0,
    "start_time": "2023-03-11T20:06:58.399Z"
   },
   {
    "duration": 0,
    "start_time": "2023-03-11T20:06:58.400Z"
   },
   {
    "duration": 0,
    "start_time": "2023-03-11T20:06:58.401Z"
   },
   {
    "duration": 0,
    "start_time": "2023-03-11T20:06:58.403Z"
   },
   {
    "duration": 0,
    "start_time": "2023-03-11T20:06:58.404Z"
   },
   {
    "duration": 0,
    "start_time": "2023-03-11T20:06:58.405Z"
   },
   {
    "duration": 0,
    "start_time": "2023-03-11T20:06:58.406Z"
   },
   {
    "duration": 0,
    "start_time": "2023-03-11T20:06:58.407Z"
   },
   {
    "duration": 0,
    "start_time": "2023-03-11T20:06:58.408Z"
   },
   {
    "duration": 0,
    "start_time": "2023-03-11T20:06:58.409Z"
   },
   {
    "duration": 0,
    "start_time": "2023-03-11T20:06:58.410Z"
   },
   {
    "duration": 0,
    "start_time": "2023-03-11T20:06:58.412Z"
   },
   {
    "duration": 0,
    "start_time": "2023-03-11T20:06:58.413Z"
   },
   {
    "duration": 0,
    "start_time": "2023-03-11T20:06:58.414Z"
   },
   {
    "duration": 0,
    "start_time": "2023-03-11T20:06:58.416Z"
   },
   {
    "duration": 0,
    "start_time": "2023-03-11T20:06:58.417Z"
   },
   {
    "duration": 0,
    "start_time": "2023-03-11T20:06:58.418Z"
   },
   {
    "duration": 0,
    "start_time": "2023-03-11T20:06:58.420Z"
   },
   {
    "duration": 0,
    "start_time": "2023-03-11T20:06:58.421Z"
   },
   {
    "duration": 0,
    "start_time": "2023-03-11T20:06:58.423Z"
   },
   {
    "duration": 0,
    "start_time": "2023-03-11T20:06:58.424Z"
   },
   {
    "duration": 0,
    "start_time": "2023-03-11T20:06:58.425Z"
   },
   {
    "duration": 0,
    "start_time": "2023-03-11T20:06:58.427Z"
   },
   {
    "duration": 0,
    "start_time": "2023-03-11T20:06:58.428Z"
   },
   {
    "duration": 0,
    "start_time": "2023-03-11T20:06:58.489Z"
   },
   {
    "duration": 0,
    "start_time": "2023-03-11T20:06:58.491Z"
   },
   {
    "duration": 0,
    "start_time": "2023-03-11T20:06:58.492Z"
   },
   {
    "duration": 0,
    "start_time": "2023-03-11T20:06:58.493Z"
   },
   {
    "duration": 0,
    "start_time": "2023-03-11T20:06:58.495Z"
   },
   {
    "duration": 0,
    "start_time": "2023-03-11T20:06:58.496Z"
   },
   {
    "duration": 0,
    "start_time": "2023-03-11T20:06:58.497Z"
   },
   {
    "duration": 0,
    "start_time": "2023-03-11T20:06:58.498Z"
   },
   {
    "duration": 0,
    "start_time": "2023-03-11T20:06:58.499Z"
   },
   {
    "duration": 0,
    "start_time": "2023-03-11T20:06:58.500Z"
   },
   {
    "duration": 0,
    "start_time": "2023-03-11T20:06:58.501Z"
   },
   {
    "duration": 0,
    "start_time": "2023-03-11T20:06:58.502Z"
   },
   {
    "duration": 0,
    "start_time": "2023-03-11T20:06:58.503Z"
   },
   {
    "duration": 0,
    "start_time": "2023-03-11T20:06:58.505Z"
   },
   {
    "duration": 0,
    "start_time": "2023-03-11T20:06:58.506Z"
   },
   {
    "duration": 0,
    "start_time": "2023-03-11T20:06:58.507Z"
   },
   {
    "duration": 0,
    "start_time": "2023-03-11T20:06:58.508Z"
   },
   {
    "duration": 0,
    "start_time": "2023-03-11T20:06:58.509Z"
   },
   {
    "duration": 0,
    "start_time": "2023-03-11T20:06:58.510Z"
   },
   {
    "duration": 0,
    "start_time": "2023-03-11T20:06:58.512Z"
   },
   {
    "duration": 0,
    "start_time": "2023-03-11T20:06:58.514Z"
   },
   {
    "duration": 0,
    "start_time": "2023-03-11T20:06:58.515Z"
   },
   {
    "duration": 0,
    "start_time": "2023-03-11T20:06:58.516Z"
   },
   {
    "duration": 0,
    "start_time": "2023-03-11T20:06:58.518Z"
   },
   {
    "duration": 0,
    "start_time": "2023-03-11T20:06:58.519Z"
   },
   {
    "duration": 0,
    "start_time": "2023-03-11T20:06:58.521Z"
   },
   {
    "duration": 0,
    "start_time": "2023-03-11T20:06:58.522Z"
   },
   {
    "duration": 0,
    "start_time": "2023-03-11T20:06:58.524Z"
   },
   {
    "duration": 0,
    "start_time": "2023-03-11T20:06:58.590Z"
   },
   {
    "duration": 0,
    "start_time": "2023-03-11T20:06:58.591Z"
   },
   {
    "duration": 0,
    "start_time": "2023-03-11T20:06:58.593Z"
   },
   {
    "duration": 0,
    "start_time": "2023-03-11T20:06:58.595Z"
   },
   {
    "duration": 0,
    "start_time": "2023-03-11T20:06:58.596Z"
   },
   {
    "duration": 0,
    "start_time": "2023-03-11T20:06:58.596Z"
   },
   {
    "duration": 0,
    "start_time": "2023-03-11T20:06:58.598Z"
   },
   {
    "duration": 0,
    "start_time": "2023-03-11T20:06:58.599Z"
   },
   {
    "duration": 0,
    "start_time": "2023-03-11T20:06:58.600Z"
   },
   {
    "duration": 0,
    "start_time": "2023-03-11T20:06:58.601Z"
   },
   {
    "duration": 0,
    "start_time": "2023-03-11T20:06:58.602Z"
   },
   {
    "duration": 0,
    "start_time": "2023-03-11T20:06:58.603Z"
   },
   {
    "duration": 12,
    "start_time": "2023-03-11T20:08:22.838Z"
   },
   {
    "duration": 5,
    "start_time": "2023-03-11T20:08:52.502Z"
   },
   {
    "duration": 3,
    "start_time": "2023-03-11T20:08:53.808Z"
   },
   {
    "duration": 3,
    "start_time": "2023-03-11T20:08:55.440Z"
   },
   {
    "duration": 906,
    "start_time": "2023-03-11T20:08:56.526Z"
   },
   {
    "duration": 25,
    "start_time": "2023-03-11T20:08:57.434Z"
   },
   {
    "duration": 4,
    "start_time": "2023-03-11T20:09:01.970Z"
   },
   {
    "duration": 4,
    "start_time": "2023-03-11T20:09:02.812Z"
   },
   {
    "duration": 4,
    "start_time": "2023-03-11T20:09:03.571Z"
   },
   {
    "duration": 13,
    "start_time": "2023-03-11T20:09:05.588Z"
   },
   {
    "duration": 9,
    "start_time": "2023-03-11T20:09:08.674Z"
   },
   {
    "duration": 5,
    "start_time": "2023-03-11T20:09:10.889Z"
   },
   {
    "duration": 524,
    "start_time": "2023-03-11T20:09:12.594Z"
   },
   {
    "duration": 457,
    "start_time": "2023-03-11T20:09:13.745Z"
   },
   {
    "duration": 14,
    "start_time": "2023-03-11T20:09:17.270Z"
   },
   {
    "duration": 6,
    "start_time": "2023-03-11T20:09:19.376Z"
   },
   {
    "duration": 5,
    "start_time": "2023-03-11T20:09:20.317Z"
   },
   {
    "duration": 9,
    "start_time": "2023-03-11T20:09:21.168Z"
   },
   {
    "duration": 17,
    "start_time": "2023-03-11T20:09:22.118Z"
   },
   {
    "duration": 10,
    "start_time": "2023-03-11T20:09:24.271Z"
   },
   {
    "duration": 7,
    "start_time": "2023-03-11T20:09:25.116Z"
   },
   {
    "duration": 16,
    "start_time": "2023-03-11T20:09:26.115Z"
   },
   {
    "duration": 9,
    "start_time": "2023-03-11T20:09:28.571Z"
   },
   {
    "duration": 18,
    "start_time": "2023-03-11T20:09:29.495Z"
   },
   {
    "duration": 9,
    "start_time": "2023-03-11T20:09:33.306Z"
   },
   {
    "duration": 4,
    "start_time": "2023-03-11T20:09:36.282Z"
   },
   {
    "duration": 2,
    "start_time": "2023-03-11T20:09:37.921Z"
   },
   {
    "duration": 12,
    "start_time": "2023-03-11T20:09:40.136Z"
   },
   {
    "duration": 4,
    "start_time": "2023-03-11T20:09:41.004Z"
   },
   {
    "duration": 8,
    "start_time": "2023-03-11T20:09:41.911Z"
   },
   {
    "duration": 6,
    "start_time": "2023-03-11T20:09:46.774Z"
   },
   {
    "duration": 5,
    "start_time": "2023-03-11T20:09:48.037Z"
   },
   {
    "duration": 12,
    "start_time": "2023-03-11T20:09:49.314Z"
   },
   {
    "duration": 41,
    "start_time": "2023-03-11T20:09:51.304Z"
   },
   {
    "duration": 37,
    "start_time": "2023-03-11T20:09:58.339Z"
   },
   {
    "duration": 142,
    "start_time": "2023-03-11T20:10:02.986Z"
   },
   {
    "duration": 152,
    "start_time": "2023-03-11T20:10:09.602Z"
   },
   {
    "duration": 147,
    "start_time": "2023-03-11T20:10:17.128Z"
   },
   {
    "duration": 172,
    "start_time": "2023-03-11T20:10:24.370Z"
   },
   {
    "duration": 151,
    "start_time": "2023-03-11T20:10:28.322Z"
   },
   {
    "duration": 5,
    "start_time": "2023-03-11T20:10:34.630Z"
   },
   {
    "duration": 4,
    "start_time": "2023-03-11T20:10:42.923Z"
   },
   {
    "duration": 97,
    "start_time": "2023-03-11T20:10:50.410Z"
   },
   {
    "duration": 559,
    "start_time": "2023-03-11T20:10:51.625Z"
   },
   {
    "duration": 70,
    "start_time": "2023-03-11T20:11:03.106Z"
   },
   {
    "duration": 8,
    "start_time": "2023-03-11T20:11:09.829Z"
   },
   {
    "duration": 18,
    "start_time": "2023-03-11T20:11:11.070Z"
   },
   {
    "duration": 215,
    "start_time": "2023-03-11T20:11:12.291Z"
   },
   {
    "duration": 55,
    "start_time": "2023-03-11T20:11:21.870Z"
   },
   {
    "duration": 74,
    "start_time": "2023-03-11T20:11:25.709Z"
   },
   {
    "duration": 9,
    "start_time": "2023-03-11T20:12:12.960Z"
   },
   {
    "duration": 60,
    "start_time": "2023-03-11T20:12:23.652Z"
   },
   {
    "duration": 9,
    "start_time": "2023-03-11T20:14:49.708Z"
   },
   {
    "duration": 23,
    "start_time": "2023-03-11T20:14:59.635Z"
   },
   {
    "duration": 9,
    "start_time": "2023-03-11T20:16:39.558Z"
   },
   {
    "duration": 25,
    "start_time": "2023-03-11T20:16:44.368Z"
   },
   {
    "duration": 9,
    "start_time": "2023-03-11T20:16:59.772Z"
   },
   {
    "duration": 56,
    "start_time": "2023-03-11T20:17:08.409Z"
   },
   {
    "duration": 9,
    "start_time": "2023-03-11T20:18:40.752Z"
   },
   {
    "duration": 25,
    "start_time": "2023-03-11T20:18:48.628Z"
   },
   {
    "duration": 9,
    "start_time": "2023-03-11T20:20:06.545Z"
   },
   {
    "duration": 57,
    "start_time": "2023-03-11T20:20:13.095Z"
   },
   {
    "duration": 418,
    "start_time": "2023-03-11T20:20:42.099Z"
   },
   {
    "duration": 59,
    "start_time": "2023-03-11T20:20:46.531Z"
   },
   {
    "duration": 53,
    "start_time": "2023-03-11T20:20:51.585Z"
   },
   {
    "duration": 64,
    "start_time": "2023-03-11T20:21:00.442Z"
   },
   {
    "duration": 11,
    "start_time": "2023-03-11T20:21:05.673Z"
   },
   {
    "duration": 10,
    "start_time": "2023-03-11T20:21:08.352Z"
   },
   {
    "duration": 349,
    "start_time": "2023-03-11T20:21:09.326Z"
   },
   {
    "duration": 23,
    "start_time": "2023-03-11T20:21:16.471Z"
   },
   {
    "duration": 12,
    "start_time": "2023-03-11T20:21:18.743Z"
   },
   {
    "duration": 1747,
    "start_time": "2023-03-11T20:21:20.115Z"
   },
   {
    "duration": 357,
    "start_time": "2023-03-11T20:21:28.116Z"
   },
   {
    "duration": 4,
    "start_time": "2023-03-11T20:21:43.545Z"
   },
   {
    "duration": 16,
    "start_time": "2023-03-11T20:21:44.970Z"
   },
   {
    "duration": 4,
    "start_time": "2023-03-11T20:21:47.250Z"
   },
   {
    "duration": 5,
    "start_time": "2023-03-11T20:21:48.328Z"
   },
   {
    "duration": 27,
    "start_time": "2023-03-11T20:21:50.437Z"
   },
   {
    "duration": 21,
    "start_time": "2023-03-11T20:21:52.111Z"
   },
   {
    "duration": 1057,
    "start_time": "2023-03-11T20:21:54.115Z"
   },
   {
    "duration": 16,
    "start_time": "2023-03-11T20:22:04.802Z"
   },
   {
    "duration": 15,
    "start_time": "2023-03-11T20:22:06.452Z"
   },
   {
    "duration": 13,
    "start_time": "2023-03-11T20:22:08.198Z"
   },
   {
    "duration": 15,
    "start_time": "2023-03-11T20:22:12.777Z"
   },
   {
    "duration": 14,
    "start_time": "2023-03-11T20:22:14.922Z"
   },
   {
    "duration": 75,
    "start_time": "2023-03-12T19:29:42.625Z"
   },
   {
    "duration": 1404,
    "start_time": "2023-03-12T19:33:29.094Z"
   },
   {
    "duration": 2,
    "start_time": "2023-03-12T19:33:30.500Z"
   },
   {
    "duration": 23,
    "start_time": "2023-03-12T19:33:30.504Z"
   },
   {
    "duration": 1152,
    "start_time": "2023-03-12T19:33:30.529Z"
   },
   {
    "duration": 28,
    "start_time": "2023-03-12T19:33:31.682Z"
   },
   {
    "duration": 4,
    "start_time": "2023-03-12T19:33:31.711Z"
   },
   {
    "duration": 7,
    "start_time": "2023-03-12T19:33:31.716Z"
   },
   {
    "duration": 6,
    "start_time": "2023-03-12T19:33:31.724Z"
   },
   {
    "duration": 10,
    "start_time": "2023-03-12T19:33:31.732Z"
   },
   {
    "duration": 15,
    "start_time": "2023-03-12T19:33:31.745Z"
   },
   {
    "duration": 31,
    "start_time": "2023-03-12T19:33:31.761Z"
   },
   {
    "duration": 469,
    "start_time": "2023-03-12T19:33:31.794Z"
   },
   {
    "duration": 13,
    "start_time": "2023-03-12T19:33:32.266Z"
   },
   {
    "duration": 6,
    "start_time": "2023-03-12T19:33:32.281Z"
   },
   {
    "duration": 26,
    "start_time": "2023-03-12T19:33:32.289Z"
   },
   {
    "duration": 12,
    "start_time": "2023-03-12T19:33:32.316Z"
   },
   {
    "duration": 16,
    "start_time": "2023-03-12T19:33:32.330Z"
   },
   {
    "duration": 10,
    "start_time": "2023-03-12T19:33:32.348Z"
   },
   {
    "duration": 6,
    "start_time": "2023-03-12T19:33:32.360Z"
   },
   {
    "duration": 46,
    "start_time": "2023-03-12T19:33:32.368Z"
   },
   {
    "duration": 8,
    "start_time": "2023-03-12T19:33:32.416Z"
   },
   {
    "duration": 15,
    "start_time": "2023-03-12T19:33:32.426Z"
   },
   {
    "duration": 7,
    "start_time": "2023-03-12T19:33:32.443Z"
   },
   {
    "duration": 3,
    "start_time": "2023-03-12T19:33:32.452Z"
   },
   {
    "duration": 4,
    "start_time": "2023-03-12T19:33:32.456Z"
   },
   {
    "duration": 14,
    "start_time": "2023-03-12T19:33:32.461Z"
   },
   {
    "duration": 35,
    "start_time": "2023-03-12T19:33:32.477Z"
   },
   {
    "duration": 7,
    "start_time": "2023-03-12T19:33:32.515Z"
   },
   {
    "duration": 33,
    "start_time": "2023-03-12T19:33:32.524Z"
   },
   {
    "duration": 5,
    "start_time": "2023-03-12T19:33:32.559Z"
   },
   {
    "duration": 6,
    "start_time": "2023-03-12T19:33:32.566Z"
   },
   {
    "duration": 9,
    "start_time": "2023-03-12T19:33:32.573Z"
   },
   {
    "duration": 60,
    "start_time": "2023-03-12T19:33:32.584Z"
   },
   {
    "duration": 38,
    "start_time": "2023-03-12T19:33:32.646Z"
   },
   {
    "duration": 157,
    "start_time": "2023-03-12T19:33:32.685Z"
   },
   {
    "duration": 234,
    "start_time": "2023-03-12T19:33:32.843Z"
   },
   {
    "duration": 147,
    "start_time": "2023-03-12T19:33:33.078Z"
   },
   {
    "duration": 142,
    "start_time": "2023-03-12T19:33:33.227Z"
   },
   {
    "duration": 4,
    "start_time": "2023-03-12T19:33:33.370Z"
   },
   {
    "duration": 10,
    "start_time": "2023-03-12T19:33:33.375Z"
   },
   {
    "duration": 101,
    "start_time": "2023-03-12T19:33:33.386Z"
   },
   {
    "duration": 551,
    "start_time": "2023-03-12T19:33:33.489Z"
   },
   {
    "duration": 179,
    "start_time": "2023-03-12T19:33:34.042Z"
   },
   {
    "duration": 11,
    "start_time": "2023-03-12T19:33:34.223Z"
   },
   {
    "duration": 25,
    "start_time": "2023-03-12T19:33:34.236Z"
   },
   {
    "duration": 249,
    "start_time": "2023-03-12T19:33:34.263Z"
   },
   {
    "duration": 154,
    "start_time": "2023-03-12T19:33:34.514Z"
   },
   {
    "duration": 70,
    "start_time": "2023-03-12T19:33:34.669Z"
   },
   {
    "duration": 375,
    "start_time": "2023-03-12T19:33:34.741Z"
   },
   {
    "duration": 56,
    "start_time": "2023-03-12T19:33:35.117Z"
   },
   {
    "duration": 69,
    "start_time": "2023-03-12T19:33:35.175Z"
   },
   {
    "duration": 70,
    "start_time": "2023-03-12T19:33:35.245Z"
   },
   {
    "duration": 11,
    "start_time": "2023-03-12T19:33:35.317Z"
   },
   {
    "duration": 11,
    "start_time": "2023-03-12T19:33:35.330Z"
   },
   {
    "duration": 364,
    "start_time": "2023-03-12T19:33:35.342Z"
   },
   {
    "duration": 20,
    "start_time": "2023-03-12T19:33:35.708Z"
   },
   {
    "duration": 13,
    "start_time": "2023-03-12T19:33:35.730Z"
   },
   {
    "duration": 1435,
    "start_time": "2023-03-12T19:33:35.744Z"
   },
   {
    "duration": 403,
    "start_time": "2023-03-12T19:33:37.181Z"
   },
   {
    "duration": 5,
    "start_time": "2023-03-12T19:33:37.585Z"
   },
   {
    "duration": 29,
    "start_time": "2023-03-12T19:33:37.591Z"
   },
   {
    "duration": 4,
    "start_time": "2023-03-12T19:33:37.621Z"
   },
   {
    "duration": 7,
    "start_time": "2023-03-12T19:33:37.626Z"
   },
   {
    "duration": 22,
    "start_time": "2023-03-12T19:33:37.634Z"
   },
   {
    "duration": 14,
    "start_time": "2023-03-12T19:33:37.657Z"
   },
   {
    "duration": 1011,
    "start_time": "2023-03-12T19:33:37.673Z"
   },
   {
    "duration": 13,
    "start_time": "2023-03-12T19:33:38.686Z"
   },
   {
    "duration": 13,
    "start_time": "2023-03-12T19:33:38.712Z"
   },
   {
    "duration": 12,
    "start_time": "2023-03-12T19:33:38.726Z"
   },
   {
    "duration": 14,
    "start_time": "2023-03-12T19:33:38.740Z"
   },
   {
    "duration": 11,
    "start_time": "2023-03-12T19:33:38.756Z"
   }
  ],
  "kernelspec": {
   "display_name": "Python 3",
   "language": "python",
   "name": "python3"
  },
  "language_info": {
   "codemirror_mode": {
    "name": "ipython",
    "version": 3
   },
   "file_extension": ".py",
   "mimetype": "text/x-python",
   "name": "python",
   "nbconvert_exporter": "python",
   "pygments_lexer": "ipython3",
   "version": "3.8.8"
  },
  "toc": {
   "base_numbering": 1,
   "nav_menu": {},
   "number_sections": true,
   "sideBar": false,
   "skip_h1_title": true,
   "title_cell": "Анализ оттока клиентов Банка",
   "title_sidebar": "Contents",
   "toc_cell": true,
   "toc_position": {
    "height": "658.889px",
    "left": "20.9965px",
    "top": "111.441px",
    "width": "258.594px"
   },
   "toc_section_display": true,
   "toc_window_display": true
  }
 },
 "nbformat": 4,
 "nbformat_minor": 5
}
